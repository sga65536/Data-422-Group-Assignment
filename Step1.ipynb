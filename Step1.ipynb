{
 "cells": [
  {
   "cell_type": "markdown",
   "id": "5cd27e84-d507-46db-b543-fc2182b4f055",
   "metadata": {},
   "source": [
    "## Notebook introduction\n",
    "\n",
    "This notebook gets data from **www.worldbank.org** and **www.interest.co.nz** by using Julia. Used some user-defined functions to obtain data.\n",
    "\n",
    "The dataset obtained from **www.interest.co.nz** using unofficial API:\n",
    "- usd-nzd_exchange_rate.csv"
   ]
  },
  {
   "cell_type": "code",
   "execution_count": 1,
   "id": "a23a7cc1-a4e4-4d35-af20-f32d754039b3",
   "metadata": {},
   "outputs": [],
   "source": [
    "import Pkg"
   ]
  },
  {
   "cell_type": "code",
   "execution_count": 2,
   "id": "78539e4a-086b-4332-8811-60fa6cba6c11",
   "metadata": {},
   "outputs": [],
   "source": [
    "using Pkg"
   ]
  },
  {
   "cell_type": "code",
   "execution_count": 3,
   "id": "425fb6c0-8570-404d-8847-7b056a3ac3fc",
   "metadata": {},
   "outputs": [
    {
     "name": "stderr",
     "output_type": "stream",
     "text": [
      "\u001b[33m\u001b[1m┌ \u001b[22m\u001b[39m\u001b[33m\u001b[1mWarning: \u001b[22m\u001b[39mcould not download https://pkg.julialang.org/registries\n",
      "\u001b[33m\u001b[1m│ \u001b[22m\u001b[39m  exception = RequestError: HTTP/2 502 while requesting https://pkg.julialang.org/registries\n",
      "\u001b[33m\u001b[1m└ \u001b[22m\u001b[39m\u001b[90m@ Pkg.Registry /Applications/Julia-1.9.app/Contents/Resources/julia/share/julia/stdlib/v1.9/Pkg/src/Registry/Registry.jl:69\u001b[39m\n",
      "\u001b[32m\u001b[1m    Updating\u001b[22m\u001b[39m registry at `~/.julia/registries/General.toml`\n",
      "\u001b[32m\u001b[1m   Resolving\u001b[22m\u001b[39m package versions...\n",
      "\u001b[32m\u001b[1m  No Changes\u001b[22m\u001b[39m to `~/.julia/environments/v1.9/Project.toml`\n",
      "\u001b[32m\u001b[1m  No Changes\u001b[22m\u001b[39m to `~/.julia/environments/v1.9/Manifest.toml`\n",
      "\u001b[32m\u001b[1m   Resolving\u001b[22m\u001b[39m package versions...\n",
      "\u001b[32m\u001b[1m  No Changes\u001b[22m\u001b[39m to `~/.julia/environments/v1.9/Project.toml`\n",
      "\u001b[32m\u001b[1m  No Changes\u001b[22m\u001b[39m to `~/.julia/environments/v1.9/Manifest.toml`\n",
      "\u001b[32m\u001b[1m   Resolving\u001b[22m\u001b[39m package versions...\n",
      "\u001b[32m\u001b[1m  No Changes\u001b[22m\u001b[39m to `~/.julia/environments/v1.9/Project.toml`\n",
      "\u001b[32m\u001b[1m  No Changes\u001b[22m\u001b[39m to `~/.julia/environments/v1.9/Manifest.toml`\n",
      "\u001b[32m\u001b[1m   Resolving\u001b[22m\u001b[39m package versions...\n",
      "\u001b[32m\u001b[1m  No Changes\u001b[22m\u001b[39m to `~/.julia/environments/v1.9/Project.toml`\n",
      "\u001b[32m\u001b[1m  No Changes\u001b[22m\u001b[39m to `~/.julia/environments/v1.9/Manifest.toml`\n"
     ]
    }
   ],
   "source": [
    "Pkg.add(\"JSON\")\n",
    "Pkg.add(\"HTTP\")\n",
    "Pkg.add(\"FileIO\")\n",
    "Pkg.add(\"WorldBankData\")    # DataBank is an analysis and visualisation tool that contains collections of time series data on a variety of topics."
   ]
  },
  {
   "cell_type": "code",
   "execution_count": 4,
   "id": "6956095b-ae05-4c01-a7cd-9d8babdf253c",
   "metadata": {},
   "outputs": [],
   "source": [
    "using HTTP\n",
    "using JSON\n",
    "using Dates\n",
    "using DataFrames\n",
    "using CSV"
   ]
  },
  {
   "cell_type": "code",
   "execution_count": 5,
   "id": "329f4bfa-a0d0-474e-a8bb-f0d4da21f2f6",
   "metadata": {},
   "outputs": [
    {
     "data": {
      "text/plain": [
       "true"
      ]
     },
     "execution_count": 5,
     "metadata": {},
     "output_type": "execute_result"
    }
   ],
   "source": [
    "current_directory = @__DIR__\n",
    "data_file_directory = joinpath(current_directory, \"DataSet\")\n",
    "isdir(data_file_directory) || mkdir(data_file_directory)  # Create the directory if it does not exist"
   ]
  },
  {
   "cell_type": "markdown",
   "id": "7c89f870-cad2-43c8-b27b-f231ff9957ad",
   "metadata": {},
   "source": [
    "### 1. Explore **www.worldbank.org**"
   ]
  },
  {
   "cell_type": "markdown",
   "id": "d4a2c781-eaf1-4e80-a9ce-07d388a7bfdd",
   "metadata": {},
   "source": [
    "#### Enable WorldBankData to query and download interesting datasets"
   ]
  },
  {
   "cell_type": "code",
   "execution_count": 6,
   "id": "ef815661-55a0-4e41-923e-dfc244aeb0dd",
   "metadata": {},
   "outputs": [],
   "source": [
    "using WorldBankData"
   ]
  },
  {
   "cell_type": "markdown",
   "id": "c22745ba-c849-47d2-aa38-e52d6e416678",
   "metadata": {},
   "source": [
    "#### Query using methods provided in WorldBankData API"
   ]
  },
  {
   "cell_type": "markdown",
   "id": "23ce7680-dc7d-4d67-beef-fa22cf8ada2d",
   "metadata": {},
   "source": [
    "1. Query data sets related to **CPI**"
   ]
  },
  {
   "cell_type": "code",
   "execution_count": 7,
   "id": "30e647fb-c231-4f32-bcf1-e4fdd80dd469",
   "metadata": {},
   "outputs": [
    {
     "data": {
      "text/html": [
       "<div><div style = \"float: left;\"><span>8×5 DataFrame</span></div><div style = \"clear: both;\"></div></div><div class = \"data-frame\" style = \"overflow-x: scroll;\"><table class = \"data-frame\" style = \"margin-bottom: 6px;\"><thead><tr class = \"header\"><th class = \"rowNumber\" style = \"font-weight: bold; text-align: right;\">Row</th><th style = \"text-align: left;\">indicator</th><th style = \"text-align: left;\">name</th><th style = \"text-align: left;\">description</th><th style = \"text-align: left;\">source_database</th><th style = \"text-align: left;\">source_organization</th></tr><tr class = \"subheader headerLastRow\"><th class = \"rowNumber\" style = \"font-weight: bold; text-align: right;\"></th><th title = \"String\" style = \"text-align: left;\">String</th><th title = \"String\" style = \"text-align: left;\">String</th><th title = \"String\" style = \"text-align: left;\">String</th><th title = \"String\" style = \"text-align: left;\">String</th><th title = \"String\" style = \"text-align: left;\">String</th></tr></thead><tbody><tr><td class = \"rowNumber\" style = \"font-weight: bold; text-align: right;\">1</td><td style = \"text-align: left;\">CPTOTNSXN</td><td style = \"text-align: left;\">CPI Price, nominal</td><td style = \"text-align: left;\">The consumer price index reflects the change in prices for the average consumer of a constant basket of consumer goods. Data is not seasonally adjusted.</td><td style = \"text-align: left;\">Global Economic Monitor</td><td style = \"text-align: left;\">World Bank staff calculations based on Datastream data.</td></tr><tr><td class = \"rowNumber\" style = \"font-weight: bold; text-align: right;\">2</td><td style = \"text-align: left;\">CPTOTSAXN</td><td style = \"text-align: left;\">CPI Price, nominal, seas. adj.</td><td style = \"text-align: left;\">The consumer price index reflects the change in prices for the average consumer of a constant basket of consumer goods. Data is in nominal terms and seasonally adjusted.</td><td style = \"text-align: left;\">Global Economic Monitor</td><td style = \"text-align: left;\">World Bank staff calculations based on Datastream data.</td></tr><tr><td class = \"rowNumber\" style = \"font-weight: bold; text-align: right;\">3</td><td style = \"text-align: left;\">CPTOTSAXNZGY</td><td style = \"text-align: left;\">CPI Price, % y-o-y, nominal, seas. adj.</td><td style = \"text-align: left;\">The consumer price index reflects the change in prices for the average consumer of a constant basket of consumer goods. Data is in nominal percentage terms, measured on a year-on-year basis, and seasonally adjusted.</td><td style = \"text-align: left;\">Global Economic Monitor</td><td style = \"text-align: left;\">World Bank staff calculations based on Datastream data.</td></tr><tr><td class = \"rowNumber\" style = \"font-weight: bold; text-align: right;\">4</td><td style = \"text-align: left;\">FP.CPI.TOTL</td><td style = \"text-align: left;\">Consumer price index (2010 = 100)</td><td style = \"text-align: left;\">Consumer price index reflects changes in the cost to the average consumer of acquiring a basket of goods and services that may be fixed or changed at specified intervals, such as yearly. The Laspeyres formula is generally used. Data are period averages.</td><td style = \"text-align: left;\">World Development Indicators</td><td style = \"text-align: left;\">International Monetary Fund, International Financial Statistics and data files.</td></tr><tr><td class = \"rowNumber\" style = \"font-weight: bold; text-align: right;\">5</td><td style = \"text-align: left;\">FP.CPI.TOTL.ZG</td><td style = \"text-align: left;\">Inflation, consumer prices (annual %)</td><td style = \"text-align: left;\">Inflation as measured by the consumer price index reflects the annual percentage change in the cost to the average consumer of acquiring a basket of goods and services that may be fixed or changed at specified intervals, such as yearly. The Laspeyres formula is generally used.</td><td style = \"text-align: left;\">World Development Indicators</td><td style = \"text-align: left;\">International Monetary Fund, International Financial Statistics and data files.</td></tr><tr><td class = \"rowNumber\" style = \"font-weight: bold; text-align: right;\">6</td><td style = \"text-align: left;\">FP.FPI.TOTL</td><td style = \"text-align: left;\">Food price index (2000 = 100)</td><td style = \"text-align: left;\">Food price index is a subindex of the consumer price index.</td><td style = \"text-align: left;\">WDI Database Archives</td><td style = \"text-align: left;\">United Nations, Statistical Yearbook and Monthly Bulletin of Statistics.</td></tr><tr><td class = \"rowNumber\" style = \"font-weight: bold; text-align: right;\">7</td><td style = \"text-align: left;\">MO.INDEX.ECON.XQ</td><td style = \"text-align: left;\">Sustainable Economic Opportunity</td><td style = \"text-align: left;\">Public Management:  Within this subcategory the Ibrahim Index measures: (i) Quality of Public Administration – clustered indicator (average) of variables from the African Development Bank and the World Bank measuring the extent to which the civil service is structured to effectively and ethically design policy and deliver services. (ii) Quality of Budget Management – clustered indicator (average) of variables from the African Development Bank and the World Bank measuring the extent to which there is a comprehensive and credible budget, linked to policy priorities, with mechanisms to ensure implementation and reporting. (iii) Currency Inside Banks – total stock of currency held within banks as a proportion of the money supply in an economy (OD). (iv) Ratio of Total Revenue to Total Expenditure – total budget revenue as a proportion of total budget expenditure (OD). (v) Ratio of Budget Deficit or Surplus to GDP – budget deficit or budget surplus as a proportion of Gross Domestic Product. (vi) Management of  Public Debt – clustered indicator (average) of variables from the African Development Bank and the World Bank measuring short- and medium term sustainability of fiscal policy and its impact on growth. (vii) Inflation – annual average change in the consumer price index. (viii) Ratio of External Debt Service to Exports – total external debt service due, expressed as a proportion of exports of goods, non-factor services, income and workers’ remittances. (ix) Imports Covered by Reserves – period of time that imports could be paid for by foreign exchange reserves. (x) Statistical Capacity – national statistical systems and their adherence to international norms in the areas of: Methodology (of compiling statistics and indicators); Regularity and coverage of censuses and surveys; Regularity, timeliness and accessibility of key socioeconomic indicators.</td><td style = \"text-align: left;\">Africa Development Indicators</td><td style = \"text-align: left;\">Mo Ibrahim Foundation, electronic files and web site.</td></tr><tr><td class = \"rowNumber\" style = \"font-weight: bold; text-align: right;\">8</td><td style = \"text-align: left;\">SPI.D5.2.4.CPIBY</td><td style = \"text-align: left;\">CPI base year</td><td style = \"text-align: left;\">Consumer Price Index serves as indicators of inflation and reflects changes in the cost of acquiring a fixed basket of goods and services by the average consumer.  Weights are usually derived from consumer expenditure surveys and the CPI base year refers to the year the weights were derived.  It is recommended that the base year be changed periodically to reflect changes in expenditure structure.</td><td style = \"text-align: left;\">Statistical Performance Indicators (SPI)</td><td style = \"text-align: left;\">Statistical Performance Indicators, The World Bank (https://datacatalog.worldbank.org/dataset/statistical-performance-indicators)</td></tr></tbody></table></div>"
      ],
      "text/latex": [
       "\\begin{tabular}{r|cccc}\n",
       "\t& indicator & name & description & \\\\\n",
       "\t\\hline\n",
       "\t& String & String & String & \\\\\n",
       "\t\\hline\n",
       "\t1 & CPTOTNSXN & CPI Price, nominal & The consumer price index reflects the change in prices for the average consumer of a constant basket of consumer goods. Data is not seasonally adjusted. & $\\dots$ \\\\\n",
       "\t2 & CPTOTSAXN & CPI Price, nominal, seas. adj. & The consumer price index reflects the change in prices for the average consumer of a constant basket of consumer goods. Data is in nominal terms and seasonally adjusted. & $\\dots$ \\\\\n",
       "\t3 & CPTOTSAXNZGY & CPI Price, \\% y-o-y, nominal, seas. adj. & The consumer price index reflects the change in prices for the average consumer of a constant basket of consumer goods. Data is in nominal percentage terms, measured on a year-on-year basis, and seasonally adjusted. & $\\dots$ \\\\\n",
       "\t4 & FP.CPI.TOTL & Consumer price index (2010 = 100) & Consumer price index reflects changes in the cost to the average consumer of acquiring a basket of goods and services that may be fixed or changed at specified intervals, such as yearly. The Laspeyres formula is generally used. Data are period averages. & $\\dots$ \\\\\n",
       "\t5 & FP.CPI.TOTL.ZG & Inflation, consumer prices (annual \\%) & Inflation as measured by the consumer price index reflects the annual percentage change in the cost to the average consumer of acquiring a basket of goods and services that may be fixed or changed at specified intervals, such as yearly. The Laspeyres formula is generally used. & $\\dots$ \\\\\n",
       "\t6 & FP.FPI.TOTL & Food price index (2000 = 100) & Food price index is a subindex of the consumer price index. & $\\dots$ \\\\\n",
       "\t7 & MO.INDEX.ECON.XQ & Sustainable Economic Opportunity & Public Management:  Within this subcategory the Ibrahim Index measures: (i) Quality of Public Administration – clustered indicator (average) of variables from the African Development Bank and the World Bank measuring the extent to which the civil service is structured to effectively and ethically design policy and deliver services. (ii) Quality of Budget Management – clustered indicator (average) of variables from the African Development Bank and the World Bank measuring the extent to which there is a comprehensive and credible budget, linked to policy priorities, with mechanisms to ensure implementation and reporting. (iii) Currency Inside Banks – total stock of currency held within banks as a proportion of the money supply in an economy (OD). (iv) Ratio of Total Revenue to Total Expenditure – total budget revenue as a proportion of total budget expenditure (OD). (v) Ratio of Budget Deficit or Surplus to GDP – budget deficit or budget surplus as a proportion of Gross Domestic Product. (vi) Management of  Public Debt – clustered indicator (average) of variables from the African Development Bank and the World Bank measuring short- and medium term sustainability of fiscal policy and its impact on growth. (vii) Inflation – annual average change in the consumer price index. (viii) Ratio of External Debt Service to Exports – total external debt service due, expressed as a proportion of exports of goods, non-factor services, income and workers’ remittances. (ix) Imports Covered by Reserves – period of time that imports could be paid for by foreign exchange reserves. (x) Statistical Capacity – national statistical systems and their adherence to international norms in the areas of: Methodology (of compiling statistics and indicators); Regularity and coverage of censuses and surveys; Regularity, timeliness and accessibility of key socioeconomic indicators. & $\\dots$ \\\\\n",
       "\t8 & SPI.D5.2.4.CPIBY & CPI base year & Consumer Price Index serves as indicators of inflation and reflects changes in the cost of acquiring a fixed basket of goods and services by the average consumer.  Weights are usually derived from consumer expenditure surveys and the CPI base year refers to the year the weights were derived.  It is recommended that the base year be changed periodically to reflect changes in expenditure structure. & $\\dots$ \\\\\n",
       "\\end{tabular}\n"
      ],
      "text/plain": [
       "\u001b[1m8×5 DataFrame\u001b[0m\n",
       "\u001b[1m Row \u001b[0m│\u001b[1m indicator        \u001b[0m\u001b[1m name                              \u001b[0m\u001b[1m description       \u001b[0m ⋯\n",
       "     │\u001b[90m String           \u001b[0m\u001b[90m String                            \u001b[0m\u001b[90m String            \u001b[0m ⋯\n",
       "─────┼──────────────────────────────────────────────────────────────────────────\n",
       "   1 │ CPTOTNSXN         CPI Price, nominal                 The consumer price ⋯\n",
       "   2 │ CPTOTSAXN         CPI Price, nominal, seas. adj.     The consumer price\n",
       "   3 │ CPTOTSAXNZGY      CPI Price, % y-o-y, nominal, sea…  The consumer price\n",
       "   4 │ FP.CPI.TOTL       Consumer price index (2010 = 100)  Consumer price ind\n",
       "   5 │ FP.CPI.TOTL.ZG    Inflation, consumer prices (annu…  Inflation as measu ⋯\n",
       "   6 │ FP.FPI.TOTL       Food price index (2000 = 100)      Food price index i\n",
       "   7 │ MO.INDEX.ECON.XQ  Sustainable Economic Opportunity   Public Management:\n",
       "   8 │ SPI.D5.2.4.CPIBY  CPI base year                      Consumer Price Ind\n",
       "\u001b[36m                                                               3 columns omitted\u001b[0m"
      ]
     },
     "execution_count": 7,
     "metadata": {},
     "output_type": "execute_result"
    }
   ],
   "source": [
    "CPI_WDI = search_wdi(\"indicators\",\"description\",r\"Consumer Price Index\"i)"
   ]
  },
  {
   "cell_type": "markdown",
   "id": "e507bf9a-5a21-458e-b503-a62942f54624",
   "metadata": {},
   "source": [
    "By looking at the data frame, the second data set is what we want. This data set was calculated by World Bank staff based on Datastream data. The consumer price index reflects changes in prices paid by ordinary consumers for a fixed basket of consumer goods. We selected this data set to eliminate seasonality. Seasonality in different country regions can bias index statistics."
   ]
  },
  {
   "cell_type": "code",
   "execution_count": 8,
   "id": "6db52fe6-d805-4a5c-a560-539830dbf25a",
   "metadata": {},
   "outputs": [
    {
     "data": {
      "text/html": [
       "<div><div style = \"float: left;\"><span>DataFrameRow (5 columns)</span></div><div style = \"clear: both;\"></div></div><div class = \"data-frame\" style = \"overflow-x: scroll;\"><table class = \"data-frame\" style = \"margin-bottom: 6px;\"><thead><tr class = \"header\"><th class = \"rowLabel\" style = \"font-weight: bold; text-align: right;\">Row</th><th style = \"text-align: left;\">indicator</th><th style = \"text-align: left;\">name</th><th style = \"text-align: left;\">description</th><th style = \"text-align: left;\">source_database</th><th style = \"text-align: left;\">source_organization</th></tr><tr class = \"subheader headerLastRow\"><th class = \"rowLabel\" style = \"font-weight: bold; text-align: right;\"></th><th title = \"String\" style = \"text-align: left;\">String</th><th title = \"String\" style = \"text-align: left;\">String</th><th title = \"String\" style = \"text-align: left;\">String</th><th title = \"String\" style = \"text-align: left;\">String</th><th title = \"String\" style = \"text-align: left;\">String</th></tr></thead><tbody><tr><td class = \"rowLabel\" style = \"font-weight: bold; text-align: right;\">5</td><td style = \"text-align: left;\">FP.CPI.TOTL.ZG</td><td style = \"text-align: left;\">Inflation, consumer prices (annual %)</td><td style = \"text-align: left;\">Inflation as measured by the consumer price index reflects the annual percentage change in the cost to the average consumer of acquiring a basket of goods and services that may be fixed or changed at specified intervals, such as yearly. The Laspeyres formula is generally used.</td><td style = \"text-align: left;\">World Development Indicators</td><td style = \"text-align: left;\">International Monetary Fund, International Financial Statistics and data files.</td></tr></tbody></table></div>"
      ],
      "text/latex": [
       "\\begin{tabular}{r|cccc}\n",
       "\t& indicator & name & description & \\\\\n",
       "\t\\hline\n",
       "\t& String & String & String & \\\\\n",
       "\t\\hline\n",
       "\t5 & FP.CPI.TOTL.ZG & Inflation, consumer prices (annual \\%) & Inflation as measured by the consumer price index reflects the annual percentage change in the cost to the average consumer of acquiring a basket of goods and services that may be fixed or changed at specified intervals, such as yearly. The Laspeyres formula is generally used. & $\\dots$ \\\\\n",
       "\\end{tabular}\n"
      ],
      "text/plain": [
       "\u001b[1mDataFrameRow\u001b[0m\n",
       "\u001b[1m Row \u001b[0m│\u001b[1m indicator      \u001b[0m\u001b[1m name                              \u001b[0m\u001b[1m description         \u001b[0m ⋯\n",
       "     │\u001b[90m String         \u001b[0m\u001b[90m String                            \u001b[0m\u001b[90m String              \u001b[0m ⋯\n",
       "─────┼──────────────────────────────────────────────────────────────────────────\n",
       "   5 │ FP.CPI.TOTL.ZG  Inflation, consumer prices (annu…  Inflation as measure ⋯\n",
       "\u001b[36m                                                               3 columns omitted\u001b[0m"
      ]
     },
     "execution_count": 8,
     "metadata": {},
     "output_type": "execute_result"
    }
   ],
   "source": [
    "choose_row_CPI = CPI_WDI[5, :]"
   ]
  },
  {
   "cell_type": "code",
   "execution_count": 9,
   "id": "29b00707-3aea-4f3c-b7f8-b5a042654f95",
   "metadata": {},
   "outputs": [
    {
     "name": "stdout",
     "output_type": "stream",
     "text": [
      "The indicator of the data set we are interested in is: FP.CPI.TOTL.ZG \n"
     ]
    }
   ],
   "source": [
    "Indicator_CPI = CPI_WDI[5, :indicator]\n",
    "println(\"The indicator of the data set we are interested in is: $(Indicator_CPI) \")"
   ]
  },
  {
   "cell_type": "markdown",
   "id": "11c9fbfb-a7aa-4693-94c8-605a949481ed",
   "metadata": {},
   "source": [
    "2. Query data sets related to **Unemployment Rate**"
   ]
  },
  {
   "cell_type": "code",
   "execution_count": 10,
   "id": "b51f7e76-1b14-46e2-a785-9b3d137257b8",
   "metadata": {
    "scrolled": true
   },
   "outputs": [
    {
     "data": {
      "text/html": [
       "<div><div style = \"float: left;\"><span>77×5 DataFrame</span></div><div style = \"float: right;\"><span style = \"font-style: italic;\">52 rows omitted</span></div><div style = \"clear: both;\"></div></div><div class = \"data-frame\" style = \"overflow-x: scroll;\"><table class = \"data-frame\" style = \"margin-bottom: 6px;\"><thead><tr class = \"header\"><th class = \"rowNumber\" style = \"font-weight: bold; text-align: right;\">Row</th><th style = \"text-align: left;\">indicator</th><th style = \"text-align: left;\">name</th><th style = \"text-align: left;\">description</th><th style = \"text-align: left;\">source_database</th><th style = \"text-align: left;\">source_organization</th></tr><tr class = \"subheader headerLastRow\"><th class = \"rowNumber\" style = \"font-weight: bold; text-align: right;\"></th><th title = \"String\" style = \"text-align: left;\">String</th><th title = \"String\" style = \"text-align: left;\">String</th><th title = \"String\" style = \"text-align: left;\">String</th><th title = \"String\" style = \"text-align: left;\">String</th><th title = \"String\" style = \"text-align: left;\">String</th></tr></thead><tbody><tr><td class = \"rowNumber\" style = \"font-weight: bold; text-align: right;\">1</td><td style = \"text-align: left;\">fin37.38.t.d</td><td style = \"text-align: left;\">Received government transfer or pension (% age 15+)</td><td style = \"text-align: left;\">The percentage of respondents who report personally receiving any transfer or pension from the government in the past year. This includes payments for educational or medical expenses, unemployment benefits, subsidy payments, or any kind of social benefits. It also includes payments for a pension from the government, military, or public sector.</td><td style = \"text-align: left;\">Global Financial Inclusion</td><td style = \"text-align: left;\">Global Findex database</td></tr><tr><td class = \"rowNumber\" style = \"font-weight: bold; text-align: right;\">2</td><td style = \"text-align: left;\">fin37.38.t.d.1</td><td style = \"text-align: left;\">Received government transfer or pension, female (% age 15+)</td><td style = \"text-align: left;\">The percentage of respondents who report personally receiving any transfer or pension from the government in the past year. This includes payments for educational or medical expenses, unemployment benefits, subsidy payments, or any kind of social benefits. It also includes payments for a pension from the government, military, or public sector, female (% age 15+)</td><td style = \"text-align: left;\">Global Financial Inclusion</td><td style = \"text-align: left;\">Global Findex database</td></tr><tr><td class = \"rowNumber\" style = \"font-weight: bold; text-align: right;\">3</td><td style = \"text-align: left;\">fin37.38.t.d.10</td><td style = \"text-align: left;\">Received government transfer or pension, urban (% age 15+)</td><td style = \"text-align: left;\">The percentage of respondents who report personally receiving any transfer or pension from the government in the past year. This includes payments for educational or medical expenses, unemployment benefits, subsidy payments, or any kind of social benefits. It also includes payments for a pension from the government, military, or public sector, urban (% age 15+)</td><td style = \"text-align: left;\">Global Financial Inclusion</td><td style = \"text-align: left;\">Global Findex database</td></tr><tr><td class = \"rowNumber\" style = \"font-weight: bold; text-align: right;\">4</td><td style = \"text-align: left;\">fin37.38.t.d.11</td><td style = \"text-align: left;\">Received government transfer or pension, out of labor force (% age 15+)</td><td style = \"text-align: left;\">The percentage of respondents who report personally receiving any transfer or pension from the government in the past year. This includes payments for educational or medical expenses, unemployment benefits, subsidy payments, or any kind of social benefits. It also includes payments for a pension from the government, military, or public sector, out of labor force (% age 15+)</td><td style = \"text-align: left;\">Global Financial Inclusion</td><td style = \"text-align: left;\">Global Findex database</td></tr><tr><td class = \"rowNumber\" style = \"font-weight: bold; text-align: right;\">5</td><td style = \"text-align: left;\">fin37.38.t.d.12</td><td style = \"text-align: left;\">Received government transfer or pension, in labor force (% age 15+)</td><td style = \"text-align: left;\">The percentage of respondents who report personally receiving any transfer or pension from the government in the past year. This includes payments for educational or medical expenses, unemployment benefits, subsidy payments, or any kind of social benefits. It also includes payments for a pension from the government, military, or public sector, in labor force (% age 15+)</td><td style = \"text-align: left;\">Global Financial Inclusion</td><td style = \"text-align: left;\">Global Findex database</td></tr><tr><td class = \"rowNumber\" style = \"font-weight: bold; text-align: right;\">6</td><td style = \"text-align: left;\">fin37.38.t.d.2</td><td style = \"text-align: left;\">Received government transfer or pension, male (% age 15+)</td><td style = \"text-align: left;\">The percentage of respondents who report personally receiving any transfer or pension from the government in the past year. This includes payments for educational or medical expenses, unemployment benefits, subsidy payments, or any kind of social benefits. It also includes payments for a pension from the government, military, or public sector, male (% age 15+)</td><td style = \"text-align: left;\">Global Financial Inclusion</td><td style = \"text-align: left;\">Global Findex database</td></tr><tr><td class = \"rowNumber\" style = \"font-weight: bold; text-align: right;\">7</td><td style = \"text-align: left;\">fin37.38.t.d.3</td><td style = \"text-align: left;\">Received government transfer or pension, young (% ages 15-24)</td><td style = \"text-align: left;\">The percentage of respondents who report personally receiving any transfer or pension from the government in the past year. This includes payments for educational or medical expenses, unemployment benefits, subsidy payments, or any kind of social benefits. It also includes payments for a pension from the government, military, or public sector, young (% ages 15-24)</td><td style = \"text-align: left;\">Global Financial Inclusion</td><td style = \"text-align: left;\">Global Findex database</td></tr><tr><td class = \"rowNumber\" style = \"font-weight: bold; text-align: right;\">8</td><td style = \"text-align: left;\">fin37.38.t.d.4</td><td style = \"text-align: left;\">Received government transfer or pension, older (% age 25+)</td><td style = \"text-align: left;\">The percentage of respondents who report personally receiving any transfer or pension from the government in the past year. This includes payments for educational or medical expenses, unemployment benefits, subsidy payments, or any kind of social benefits. It also includes payments for a pension from the government, military, or public sector, older (% age 25+)</td><td style = \"text-align: left;\">Global Financial Inclusion</td><td style = \"text-align: left;\">Global Findex database</td></tr><tr><td class = \"rowNumber\" style = \"font-weight: bold; text-align: right;\">9</td><td style = \"text-align: left;\">fin37.38.t.d.5</td><td style = \"text-align: left;\">Received government transfer or pension, primary education or less (% ages 15+)</td><td style = \"text-align: left;\">The percentage of respondents who report personally receiving any transfer or pension from the government in the past year. This includes payments for educational or medical expenses, unemployment benefits, subsidy payments, or any kind of social benefits. It also includes payments for a pension from the government, military, or public sector, primary education or less (% ages 15+)</td><td style = \"text-align: left;\">Global Financial Inclusion</td><td style = \"text-align: left;\">Global Findex database</td></tr><tr><td class = \"rowNumber\" style = \"font-weight: bold; text-align: right;\">10</td><td style = \"text-align: left;\">fin37.38.t.d.6</td><td style = \"text-align: left;\">Received government transfer or pension, secondary education or more (% ages 15+)</td><td style = \"text-align: left;\">The percentage of respondents who report personally receiving any transfer or pension from the government in the past year. This includes payments for educational or medical expenses, unemployment benefits, subsidy payments, or any kind of social benefits. It also includes payments for a pension from the government, military, or public sector, secondary education or more (% ages 15+)</td><td style = \"text-align: left;\">Global Financial Inclusion</td><td style = \"text-align: left;\">Global Findex database</td></tr><tr><td class = \"rowNumber\" style = \"font-weight: bold; text-align: right;\">11</td><td style = \"text-align: left;\">fin37.38.t.d.7</td><td style = \"text-align: left;\">Received government transfer or pension, income, poorest 40% (% ages 15+)</td><td style = \"text-align: left;\">The percentage of respondents who report personally receiving any transfer or pension from the government in the past year. This includes payments for educational or medical expenses, unemployment benefits, subsidy payments, or any kind of social benefits. It also includes payments for a pension from the government, military, or public sector, poorest 40% (% ages 15+)</td><td style = \"text-align: left;\">Global Financial Inclusion</td><td style = \"text-align: left;\">Global Findex database</td></tr><tr><td class = \"rowNumber\" style = \"font-weight: bold; text-align: right;\">12</td><td style = \"text-align: left;\">fin37.38.t.d.8</td><td style = \"text-align: left;\">Received government transfer or pension, income, richest 60% (% ages 15+)</td><td style = \"text-align: left;\">The percentage of respondents who report personally receiving any transfer or pension from the government in the past year. This includes payments for educational or medical expenses, unemployment benefits, subsidy payments, or any kind of social benefits. It also includes payments for a pension from the government, military, or public sector, richest 60% (% ages 15+)</td><td style = \"text-align: left;\">Global Financial Inclusion</td><td style = \"text-align: left;\">Global Findex database</td></tr><tr><td class = \"rowNumber\" style = \"font-weight: bold; text-align: right;\">13</td><td style = \"text-align: left;\">fin37.38.t.d.9</td><td style = \"text-align: left;\">Received government transfer or pension, rural (% age 15+)</td><td style = \"text-align: left;\">The percentage of respondents who report personally receiving any transfer or pension from the government in the past year. This includes payments for educational or medical expenses, unemployment benefits, subsidy payments, or any kind of social benefits. It also includes payments for a pension from the government, military, or public sector, rural (% age 15+)</td><td style = \"text-align: left;\">Global Financial Inclusion</td><td style = \"text-align: left;\">Global Findex database</td></tr><tr><td style = \"text-align: right;\">&vellip;</td><td style = \"text-align: right;\">&vellip;</td><td style = \"text-align: right;\">&vellip;</td><td style = \"text-align: right;\">&vellip;</td><td style = \"text-align: right;\">&vellip;</td><td style = \"text-align: right;\">&vellip;</td></tr><tr><td class = \"rowNumber\" style = \"font-weight: bold; text-align: right;\">66</td><td style = \"text-align: left;\">SL.UEM.SECO.MA.ZS</td><td style = \"text-align: left;\">Unemployment with secondary education, male (% of male unemployment)</td><td style = \"text-align: left;\">Male unemployment with secondary education is the share of the male unemployed who attained or completed secondary education as the highest level.</td><td style = \"text-align: left;\">WDI Database Archives</td><td style = \"text-align: left;\">International Labour Organization, Key Indicators of the Labour Market database.</td></tr><tr><td class = \"rowNumber\" style = \"font-weight: bold; text-align: right;\">67</td><td style = \"text-align: left;\">SL.UEM.SECO.ZS</td><td style = \"text-align: left;\">Unemployment with secondary education (% of total unemployment)</td><td style = \"text-align: left;\">Unemployment with secondary education is the share of the total unemployed who attained or completed secondary education as the highest level.</td><td style = \"text-align: left;\">Africa Development Indicators</td><td style = \"text-align: left;\">International Labour Organization, Key Indicators of the Labour Market database.</td></tr><tr><td class = \"rowNumber\" style = \"font-weight: bold; text-align: right;\">68</td><td style = \"text-align: left;\">SL.UEM.TERT.FE.ZS</td><td style = \"text-align: left;\">Unemployment with tertiary education, female (% of female unemployment)</td><td style = \"text-align: left;\">Female unemployment with tertiary education is the share of the female unemployed who attained or completed tertiary education as the highest level.</td><td style = \"text-align: left;\">WDI Database Archives</td><td style = \"text-align: left;\">International Labour Organization, Key Indicators of the Labour Market database.</td></tr><tr><td class = \"rowNumber\" style = \"font-weight: bold; text-align: right;\">69</td><td style = \"text-align: left;\">SL.UEM.TERT.MA.ZS</td><td style = \"text-align: left;\">Unemployment with tertiary education, male (% of male unemployment)</td><td style = \"text-align: left;\">Male unemployment with tertiary education is the share of the male unemployed who attained or completed tertiary education as the highest level.</td><td style = \"text-align: left;\">Africa Development Indicators</td><td style = \"text-align: left;\">International Labour Organization, Key Indicators of the Labour Market database.</td></tr><tr><td class = \"rowNumber\" style = \"font-weight: bold; text-align: right;\">70</td><td style = \"text-align: left;\">SL.UEM.TERT.ZS</td><td style = \"text-align: left;\">Unemployment with tertiary education (% of total unemployment)</td><td style = \"text-align: left;\">Unemployment with tertiary education is the share of the total unemployed who attained or completed tertiary education as the highest level.</td><td style = \"text-align: left;\">WDI Database Archives</td><td style = \"text-align: left;\">International Labour Organization, Key Indicators of the Labour Market database.</td></tr><tr><td class = \"rowNumber\" style = \"font-weight: bold; text-align: right;\">71</td><td style = \"text-align: left;\">SL.UEM.TOTL.FE.NE.ZS</td><td style = \"text-align: left;\">Unemployment, female (% of female labor force) (national estimate)</td><td style = \"text-align: left;\">Unemployment refers to the share of the labor force that is without work but available for and seeking employment. Definitions of labor force and unemployment differ by country.</td><td style = \"text-align: left;\">World Development Indicators</td><td style = \"text-align: left;\">International Labour Organization. “Labour Force Statistics database (LFS)” ILOSTAT. Accessed September 05, 2023. https://ilostat.ilo.org/data/.</td></tr><tr><td class = \"rowNumber\" style = \"font-weight: bold; text-align: right;\">72</td><td style = \"text-align: left;\">SL.UEM.TOTL.FE.ZS</td><td style = \"text-align: left;\">Unemployment, female (% of female labor force) (modeled ILO estimate)</td><td style = \"text-align: left;\">Unemployment refers to the share of the labor force that is without work but available for and seeking employment.</td><td style = \"text-align: left;\">World Development Indicators</td><td style = \"text-align: left;\">International Labour Organization. “ILO Modelled Estimates and Projections database (ILOEST)” ILOSTAT. Accessed September 05, 2023. https://ilostat.ilo.org/data/.</td></tr><tr><td class = \"rowNumber\" style = \"font-weight: bold; text-align: right;\">73</td><td style = \"text-align: left;\">SL.UEM.TOTL.MA.NE.ZS</td><td style = \"text-align: left;\">Unemployment, male (% of male labor force) (national estimate)</td><td style = \"text-align: left;\">Unemployment refers to the share of the labor force that is without work but available for and seeking employment. Definitions of labor force and unemployment differ by country.</td><td style = \"text-align: left;\">World Development Indicators</td><td style = \"text-align: left;\">International Labour Organization. “Labour Force Statistics database (LFS)” ILOSTAT. Accessed September 05, 2023. https://ilostat.ilo.org/data/.</td></tr><tr><td class = \"rowNumber\" style = \"font-weight: bold; text-align: right;\">74</td><td style = \"text-align: left;\">SL.UEM.TOTL.MA.ZS</td><td style = \"text-align: left;\">Unemployment, male (% of male labor force) (modeled ILO estimate)</td><td style = \"text-align: left;\">Unemployment refers to the share of the labor force that is without work but available for and seeking employment.</td><td style = \"text-align: left;\">World Development Indicators</td><td style = \"text-align: left;\">International Labour Organization. “ILO Modelled Estimates and Projections database (ILOEST)” ILOSTAT. Accessed September 05, 2023. https://ilostat.ilo.org/data/.</td></tr><tr><td class = \"rowNumber\" style = \"font-weight: bold; text-align: right;\">75</td><td style = \"text-align: left;\">SL.UEM.TOTL.NE.ZS</td><td style = \"text-align: left;\">Unemployment, total (% of total labor force) (national estimate)</td><td style = \"text-align: left;\">Unemployment refers to the share of the labor force that is without work but available for and seeking employment. Definitions of labor force and unemployment differ by country.</td><td style = \"text-align: left;\">World Development Indicators</td><td style = \"text-align: left;\">International Labour Organization. “Labour Force Statistics database (LFS)” ILOSTAT. Accessed September 05, 2023. https://ilostat.ilo.org/data/.</td></tr><tr><td class = \"rowNumber\" style = \"font-weight: bold; text-align: right;\">76</td><td style = \"text-align: left;\">SL.UEM.TOTL.ZS</td><td style = \"text-align: left;\">Unemployment, total (% of total labor force) (modeled ILO estimate)</td><td style = \"text-align: left;\">Unemployment refers to the share of the labor force that is without work but available for and seeking employment.</td><td style = \"text-align: left;\">World Development Indicators</td><td style = \"text-align: left;\">International Labour Organization. “ILO Modelled Estimates and Projections database (ILOEST)” ILOSTAT. Accessed September 05, 2023. https://ilostat.ilo.org/data/.</td></tr><tr><td class = \"rowNumber\" style = \"font-weight: bold; text-align: right;\">77</td><td style = \"text-align: left;\">SPI.D4.1.6.LABR</td><td style = \"text-align: left;\">Labor Force Survey (Availability score over 10 years)</td><td style = \"text-align: left;\">Labor force survey is a standard household-based survey of work-related statistics at the national and sub-national employment or unemployment levels, rates or trends.  The surveys also provide the characteristics of the employed or unemployed, including labor force status by age or gender, breakdowns between employees and the self-employed, public versus private sector employment, multiple job-holding, hiring, job creation, and duration of unemployment.</td><td style = \"text-align: left;\">Statistical Performance Indicators (SPI)</td><td style = \"text-align: left;\">Statistical Performance Indicators, The World Bank (https://datacatalog.worldbank.org/dataset/statistical-performance-indicators)</td></tr></tbody></table></div>"
      ],
      "text/latex": [
       "\\begin{tabular}{r|ccc}\n",
       "\t& indicator & name & \\\\\n",
       "\t\\hline\n",
       "\t& String & String & \\\\\n",
       "\t\\hline\n",
       "\t1 & fin37.38.t.d & Received government transfer or pension (\\% age 15+) & $\\dots$ \\\\\n",
       "\t2 & fin37.38.t.d.1 & Received government transfer or pension, female (\\% age 15+) & $\\dots$ \\\\\n",
       "\t3 & fin37.38.t.d.10 & Received government transfer or pension, urban (\\% age 15+) & $\\dots$ \\\\\n",
       "\t4 & fin37.38.t.d.11 & Received government transfer or pension, out of labor force (\\% age 15+) & $\\dots$ \\\\\n",
       "\t5 & fin37.38.t.d.12 & Received government transfer or pension, in labor force (\\% age 15+) & $\\dots$ \\\\\n",
       "\t6 & fin37.38.t.d.2 & Received government transfer or pension, male (\\% age 15+) & $\\dots$ \\\\\n",
       "\t7 & fin37.38.t.d.3 & Received government transfer or pension, young (\\% ages 15-24) & $\\dots$ \\\\\n",
       "\t8 & fin37.38.t.d.4 & Received government transfer or pension, older (\\% age 25+) & $\\dots$ \\\\\n",
       "\t9 & fin37.38.t.d.5 & Received government transfer or pension, primary education or less (\\% ages 15+) & $\\dots$ \\\\\n",
       "\t10 & fin37.38.t.d.6 & Received government transfer or pension, secondary education or more (\\% ages 15+) & $\\dots$ \\\\\n",
       "\t11 & fin37.38.t.d.7 & Received government transfer or pension, income, poorest 40\\% (\\% ages 15+) & $\\dots$ \\\\\n",
       "\t12 & fin37.38.t.d.8 & Received government transfer or pension, income, richest 60\\% (\\% ages 15+) & $\\dots$ \\\\\n",
       "\t13 & fin37.38.t.d.9 & Received government transfer or pension, rural (\\% age 15+) & $\\dots$ \\\\\n",
       "\t14 & fin37.t.d & Received government transfer (\\% age 15+) & $\\dots$ \\\\\n",
       "\t15 & fin37.t.d.1 & Received government transfer, female (\\% age 15+) & $\\dots$ \\\\\n",
       "\t16 & fin37.t.d.10 & Received government transfer, urban (\\% age 15+) & $\\dots$ \\\\\n",
       "\t17 & fin37.t.d.11 & Received government transfer, out of labor force (\\% age 15+) & $\\dots$ \\\\\n",
       "\t18 & fin37.t.d.12 & Received government transfer, in labor force (\\% age 15+) & $\\dots$ \\\\\n",
       "\t19 & fin37.t.d.2 & Received government transfer, male (\\% age 15+) & $\\dots$ \\\\\n",
       "\t20 & fin37.t.d.3 & Received government transfer, young (\\% ages 15-24) & $\\dots$ \\\\\n",
       "\t21 & fin37.t.d.4 & Received government transfer, older (\\% age 25+) & $\\dots$ \\\\\n",
       "\t22 & fin37.t.d.5 & Received government transfer, primary education or less (\\% ages 15+) & $\\dots$ \\\\\n",
       "\t23 & fin37.t.d.6 & Received government transfer, secondary education or more (\\% ages 15+) & $\\dots$ \\\\\n",
       "\t24 & fin37.t.d.7 & Received government transfer, income, poorest 40\\% (\\% ages 15+) & $\\dots$ \\\\\n",
       "\t25 & fin37.t.d.8 & Received government transfer, income, richest 60\\% (\\% ages 15+) & $\\dots$ \\\\\n",
       "\t26 & fin37.t.d.9 & Received government transfer, rural (\\% age 15+) & $\\dots$ \\\\\n",
       "\t27 & fing2p.t.d & Received government payments (\\% age 15+) & $\\dots$ \\\\\n",
       "\t28 & fing2p.t.d.1 & Received government payments, female (\\% age 15+) & $\\dots$ \\\\\n",
       "\t29 & fing2p.t.d.10 & Received government payments, urban (\\% age 15+) & $\\dots$ \\\\\n",
       "\t30 & fing2p.t.d.11 & Received government payments, out of labor force (\\% age 15+) & $\\dots$ \\\\\n",
       "\t$\\dots$ & $\\dots$ & $\\dots$ &  \\\\\n",
       "\\end{tabular}\n"
      ],
      "text/plain": [
       "\u001b[1m77×5 DataFrame\u001b[0m\n",
       "\u001b[1m Row \u001b[0m│\u001b[1m indicator            \u001b[0m\u001b[1m name                              \u001b[0m\u001b[1m description   \u001b[0m ⋯\n",
       "     │\u001b[90m String               \u001b[0m\u001b[90m String                            \u001b[0m\u001b[90m String        \u001b[0m ⋯\n",
       "─────┼──────────────────────────────────────────────────────────────────────────\n",
       "   1 │ fin37.38.t.d          Received government transfer or …  The percentage ⋯\n",
       "   2 │ fin37.38.t.d.1        Received government transfer or …  The percentage\n",
       "   3 │ fin37.38.t.d.10       Received government transfer or …  The percentage\n",
       "   4 │ fin37.38.t.d.11       Received government transfer or …  The percentage\n",
       "   5 │ fin37.38.t.d.12       Received government transfer or …  The percentage ⋯\n",
       "   6 │ fin37.38.t.d.2        Received government transfer or …  The percentage\n",
       "   7 │ fin37.38.t.d.3        Received government transfer or …  The percentage\n",
       "   8 │ fin37.38.t.d.4        Received government transfer or …  The percentage\n",
       "   9 │ fin37.38.t.d.5        Received government transfer or …  The percentage ⋯\n",
       "  10 │ fin37.38.t.d.6        Received government transfer or …  The percentage\n",
       "  11 │ fin37.38.t.d.7        Received government transfer or …  The percentage\n",
       "  ⋮  │          ⋮                            ⋮                                 ⋱\n",
       "  68 │ SL.UEM.TERT.FE.ZS     Unemployment with tertiary educa…  Female unemplo\n",
       "  69 │ SL.UEM.TERT.MA.ZS     Unemployment with tertiary educa…  Male unemploym ⋯\n",
       "  70 │ SL.UEM.TERT.ZS        Unemployment with tertiary educa…  Unemployment w\n",
       "  71 │ SL.UEM.TOTL.FE.NE.ZS  Unemployment, female (% of femal…  Unemployment r\n",
       "  72 │ SL.UEM.TOTL.FE.ZS     Unemployment, female (% of femal…  Unemployment r\n",
       "  73 │ SL.UEM.TOTL.MA.NE.ZS  Unemployment, male (% of male la…  Unemployment r ⋯\n",
       "  74 │ SL.UEM.TOTL.MA.ZS     Unemployment, male (% of male la…  Unemployment r\n",
       "  75 │ SL.UEM.TOTL.NE.ZS     Unemployment, total (% of total …  Unemployment r\n",
       "  76 │ SL.UEM.TOTL.ZS        Unemployment, total (% of total …  Unemployment r\n",
       "  77 │ SPI.D4.1.6.LABR       Labor Force Survey (Availability…  Labor force su ⋯\n",
       "\u001b[36m                                                   3 columns and 56 rows omitted\u001b[0m"
      ]
     },
     "execution_count": 10,
     "metadata": {},
     "output_type": "execute_result"
    }
   ],
   "source": [
    "UNRATE_WDI = search_wdi(\"indicators\",\"description\",r\"unemployment\"i)"
   ]
  },
  {
   "cell_type": "code",
   "execution_count": 11,
   "id": "381378ee-c5e1-4e16-824d-1105e681af23",
   "metadata": {},
   "outputs": [
    {
     "data": {
      "text/html": [
       "<div><div style = \"float: left;\"><span>DataFrameRow (5 columns)</span></div><div style = \"clear: both;\"></div></div><div class = \"data-frame\" style = \"overflow-x: scroll;\"><table class = \"data-frame\" style = \"margin-bottom: 6px;\"><thead><tr class = \"header\"><th class = \"rowLabel\" style = \"font-weight: bold; text-align: right;\">Row</th><th style = \"text-align: left;\">indicator</th><th style = \"text-align: left;\">name</th><th style = \"text-align: left;\">description</th><th style = \"text-align: left;\">source_database</th><th style = \"text-align: left;\">source_organization</th></tr><tr class = \"subheader headerLastRow\"><th class = \"rowLabel\" style = \"font-weight: bold; text-align: right;\"></th><th title = \"String\" style = \"text-align: left;\">String</th><th title = \"String\" style = \"text-align: left;\">String</th><th title = \"String\" style = \"text-align: left;\">String</th><th title = \"String\" style = \"text-align: left;\">String</th><th title = \"String\" style = \"text-align: left;\">String</th></tr></thead><tbody><tr><td class = \"rowLabel\" style = \"font-weight: bold; text-align: right;\">76</td><td style = \"text-align: left;\">SL.UEM.TOTL.ZS</td><td style = \"text-align: left;\">Unemployment, total (% of total labor force) (modeled ILO estimate)</td><td style = \"text-align: left;\">Unemployment refers to the share of the labor force that is without work but available for and seeking employment.</td><td style = \"text-align: left;\">World Development Indicators</td><td style = \"text-align: left;\">International Labour Organization. “ILO Modelled Estimates and Projections database (ILOEST)” ILOSTAT. Accessed September 05, 2023. https://ilostat.ilo.org/data/.</td></tr></tbody></table></div>"
      ],
      "text/latex": [
       "\\begin{tabular}{r|ccc}\n",
       "\t& indicator & name & \\\\\n",
       "\t\\hline\n",
       "\t& String & String & \\\\\n",
       "\t\\hline\n",
       "\t76 & SL.UEM.TOTL.ZS & Unemployment, total (\\% of total labor force) (modeled ILO estimate) & $\\dots$ \\\\\n",
       "\\end{tabular}\n"
      ],
      "text/plain": [
       "\u001b[1mDataFrameRow\u001b[0m\n",
       "\u001b[1m Row \u001b[0m│\u001b[1m indicator      \u001b[0m\u001b[1m name                              \u001b[0m\u001b[1m description         \u001b[0m ⋯\n",
       "     │\u001b[90m String         \u001b[0m\u001b[90m String                            \u001b[0m\u001b[90m String              \u001b[0m ⋯\n",
       "─────┼──────────────────────────────────────────────────────────────────────────\n",
       "  76 │ SL.UEM.TOTL.ZS  Unemployment, total (% of total …  Unemployment refers  ⋯\n",
       "\u001b[36m                                                               3 columns omitted\u001b[0m"
      ]
     },
     "execution_count": 11,
     "metadata": {},
     "output_type": "execute_result"
    }
   ],
   "source": [
    "choose_row_UNRATE = UNRATE_WDI[76, :]"
   ]
  },
  {
   "cell_type": "markdown",
   "id": "a35b2b76-8f34-406e-8d6c-6e450e5fb3a6",
   "metadata": {},
   "source": [
    "The 75th result of the search is what we are interested in. The relevant introduction of the data set can be seen from the data frame above. It comes from the International Labor Organization. It collects the proportion of the labor force that is not working but has a job to find and is looking for a job , the definitions of labor force and unemployment vary from country to country."
   ]
  },
  {
   "cell_type": "code",
   "execution_count": 12,
   "id": "159994bc-2305-4657-9884-21c9690d3259",
   "metadata": {},
   "outputs": [
    {
     "name": "stdout",
     "output_type": "stream",
     "text": [
      "The indicator of the data set we are interested in is: SL.UEM.TOTL.ZS \n"
     ]
    }
   ],
   "source": [
    "Indicator_UNRATE = UNRATE_WDI[76, :indicator]\n",
    "println(\"The indicator of the data set we are interested in is: $(Indicator_UNRATE) \")"
   ]
  },
  {
   "cell_type": "markdown",
   "id": "3eff012d-9cbe-4bfa-b6fd-3b8865e7b7f6",
   "metadata": {},
   "source": [
    "3. Query data sets related to **Foreign Investment**"
   ]
  },
  {
   "cell_type": "code",
   "execution_count": 13,
   "id": "1c02aae5-c738-4104-b6bb-971b1a99e7fc",
   "metadata": {
    "scrolled": true,
    "tags": []
   },
   "outputs": [
    {
     "data": {
      "text/html": [
       "<div><div style = \"float: left;\"><span>17×5 DataFrame</span></div><div style = \"clear: both;\"></div></div><div class = \"data-frame\" style = \"overflow-x: scroll;\"><table class = \"data-frame\" style = \"margin-bottom: 6px;\"><thead><tr class = \"header\"><th class = \"rowNumber\" style = \"font-weight: bold; text-align: right;\">Row</th><th style = \"text-align: left;\">indicator</th><th style = \"text-align: left;\">name</th><th style = \"text-align: left;\">description</th><th style = \"text-align: left;\">source_database</th><th style = \"text-align: left;\">source_organization</th></tr><tr class = \"subheader headerLastRow\"><th class = \"rowNumber\" style = \"font-weight: bold; text-align: right;\"></th><th title = \"String\" style = \"text-align: left;\">String</th><th title = \"String\" style = \"text-align: left;\">String</th><th title = \"String\" style = \"text-align: left;\">String</th><th title = \"String\" style = \"text-align: left;\">String</th><th title = \"String\" style = \"text-align: left;\">String</th></tr></thead><tbody><tr><td class = \"rowNumber\" style = \"font-weight: bold; text-align: right;\">1</td><td style = \"text-align: left;\">BG.KLT.DINV.GD.PP.ZS</td><td style = \"text-align: left;\">Gross foreign direct investment (% of GDP, PPP)</td><td style = \"text-align: left;\"></td><td style = \"text-align: left;\">WDI Database Archives</td><td style = \"text-align: left;\"></td></tr><tr><td class = \"rowNumber\" style = \"font-weight: bold; text-align: right;\">2</td><td style = \"text-align: left;\">BG.KLT.DINV.GD.ZS</td><td style = \"text-align: left;\">Gross foreign direct investment (% of GDP)</td><td style = \"text-align: left;\"></td><td style = \"text-align: left;\">WDI Database Archives</td><td style = \"text-align: left;\"></td></tr><tr><td class = \"rowNumber\" style = \"font-weight: bold; text-align: right;\">3</td><td style = \"text-align: left;\">BM.KLT.DINV.CD</td><td style = \"text-align: left;\">Foreign direct investment, net outflows by reporting economy (IMF-BoP, current US$)</td><td style = \"text-align: left;\">Foreign direct investment are the net inflows of investment to acquire a lasting management interest (10 percent or more of voting stock) in an enterprise operating in an economy other than that of the investor. It is the sum of equity capital, reinvestment of earnings, other long-term capital, and short-term capital as shown in the balance of payments. This series shows net outflows of investment from the reporting economy to the rest of the world. Data are in current U.S. dollars.</td><td style = \"text-align: left;\">Africa Development Indicators</td><td style = \"text-align: left;\">International Monetary Fund, Balance of Payments Statistics Yearbook and data files.</td></tr><tr><td class = \"rowNumber\" style = \"font-weight: bold; text-align: right;\">4</td><td style = \"text-align: left;\">BM.KLT.DINV.CD.WD</td><td style = \"text-align: left;\">Foreign direct investment, net outflows (BoP, current US$)</td><td style = \"text-align: left;\">Foreign direct investment refers to direct investment equity flows in an economy. It is the sum of equity capital, reinvestment of earnings, and other capital. Direct investment is a category of cross-border investment associated with a resident in one economy having control or a significant degree of influence on the management of an enterprise that is resident in another economy. Ownership of 10 percent or more of the ordinary shares of voting stock is the criterion for determining the existence of a direct investment relationship. This series shows net outflows of investment from the reporting economy to the rest of the world. Data are in current U.S. dollars.</td><td style = \"text-align: left;\">World Development Indicators</td><td style = \"text-align: left;\">International Monetary Fund, Balance of Payments database, supplemented by data from the United Nations Conference on Trade and Development and official national sources.</td></tr><tr><td class = \"rowNumber\" style = \"font-weight: bold; text-align: right;\">5</td><td style = \"text-align: left;\">BM.KLT.DINV.GD.ZS</td><td style = \"text-align: left;\">Foreign direct investment, net outflows (% of GDP)</td><td style = \"text-align: left;\">Foreign direct investment are the net inflows of investment to acquire a lasting management interest (10 percent or more of voting stock) in an enterprise operating in an economy other than that of the investor. It is the sum of equity capital, reinvestment of earnings, other long-term capital, and short-term capital as shown in the balance of payments. This series shows net outflows of investment from the reporting economy to the rest of the world and is divided by GDP.</td><td style = \"text-align: left;\">WDI Database Archives</td><td style = \"text-align: left;\">International Monetary Fund, International Financial Statistics and Balance of Payments databases, World Bank, International Debt Statistics, and World Bank and OECD GDP estimates.</td></tr><tr><td class = \"rowNumber\" style = \"font-weight: bold; text-align: right;\">6</td><td style = \"text-align: left;\">BM.KLT.DINV.WD.GD.ZS</td><td style = \"text-align: left;\">Foreign direct investment, net outflows (% of GDP)</td><td style = \"text-align: left;\">Foreign direct investment refers to direct investment equity flows in an economy. It is the sum of equity capital, reinvestment of earnings, and other capital. Direct investment is a category of cross-border investment associated with a resident in one economy having control or a significant degree of influence on the management of an enterprise that is resident in another economy. Ownership of 10 percent or more of the ordinary shares of voting stock is the criterion for determining the existence of a direct investment relationship. This series shows net outflows of investment from the reporting economy to the rest of the world, and is divided by GDP.</td><td style = \"text-align: left;\">World Development Indicators</td><td style = \"text-align: left;\">International Monetary Fund, Balance of Payments database, supplemented by data from the United Nations Conference on Trade and Development and official national sources.</td></tr><tr><td class = \"rowNumber\" style = \"font-weight: bold; text-align: right;\">7</td><td style = \"text-align: left;\">BN.KLT.DINV.CD</td><td style = \"text-align: left;\">Foreign direct investment, net (BoP, current US$)</td><td style = \"text-align: left;\">Foreign direct investment are the net inflows of investment to acquire a lasting management interest (10 percent or more of voting stock) in an enterprise operating in an economy other than that of the investor. It is the sum of equity capital, reinvestment of earnings, other long-term capital, and short-term capital as shown in the balance of payments. This series shows total net FDI. In BPM6, financial account balances are calculated as the change in assets minus the change in liabilities. Net FDI outflows are assets and net FDI inflows are liabilities. Data are in current U.S. dollars.</td><td style = \"text-align: left;\">World Development Indicators</td><td style = \"text-align: left;\">International Monetary Fund, Balance of Payments Statistics Yearbook and data files.</td></tr><tr><td class = \"rowNumber\" style = \"font-weight: bold; text-align: right;\">8</td><td style = \"text-align: left;\">BN.KLT.DINV.CD.DRS</td><td style = \"text-align: left;\">Foreign direct investment, net inflows (US$)</td><td style = \"text-align: left;\"></td><td style = \"text-align: left;\">WDI Database Archives</td><td style = \"text-align: left;\"></td></tr><tr><td class = \"rowNumber\" style = \"font-weight: bold; text-align: right;\">9</td><td style = \"text-align: left;\">BN.KLT.DINV.CD.ZS</td><td style = \"text-align: left;\">Foreign direct investment (% of GDP)</td><td style = \"text-align: left;\">Foreign direct investment is net inflows of investment to acquire a lasting management interest (10 percent or more of voting stock) in an enterprise operating in an economy other than that of the investor. It is the sum of equity capital, reinvestment of earnings, other long-term capital, and short-term capital as shown in the balance of payments. This series shows total net, that is, net FDI in the reporting economy from foreign sources less net FDI by the reporting economy to the rest of the world. Data are in current U.S. dollars.</td><td style = \"text-align: left;\">Africa Development Indicators</td><td style = \"text-align: left;\">World Bank country economists.</td></tr><tr><td class = \"rowNumber\" style = \"font-weight: bold; text-align: right;\">10</td><td style = \"text-align: left;\">BN.KLT.DINV.DRS.GDI.ZS</td><td style = \"text-align: left;\">Foreign direct investment, net inflows (% of GDI)</td><td style = \"text-align: left;\"></td><td style = \"text-align: left;\">WDI Database Archives</td><td style = \"text-align: left;\"></td></tr><tr><td class = \"rowNumber\" style = \"font-weight: bold; text-align: right;\">11</td><td style = \"text-align: left;\">BN.KLT.DINV.DRS.GDP.ZS</td><td style = \"text-align: left;\">Foreign direct investment, net inflows (% of GDP)</td><td style = \"text-align: left;\"></td><td style = \"text-align: left;\">WDI Database Archives</td><td style = \"text-align: left;\"></td></tr><tr><td class = \"rowNumber\" style = \"font-weight: bold; text-align: right;\">12</td><td style = \"text-align: left;\">BX.KLT.DINV.CD</td><td style = \"text-align: left;\">Foreign direct investment, net inflows in reporting economy (IMF-BoP, current US$)</td><td style = \"text-align: left;\">Foreign direct investment is net inflows of investment to acquire a lasting management interest (10 percent or more of voting stock) in an enterprise operating in an economy other than that of the investor. It is the sum of equity capital, reinvestment of earnings, other long-term capital, and short-term capital as shown in the balance of payments. Data are in current U.S. dollars.</td><td style = \"text-align: left;\">Africa Development Indicators</td><td style = \"text-align: left;\">International Monetary Fund, Balance of Payments Statistics Yearbook and data files.</td></tr><tr><td class = \"rowNumber\" style = \"font-weight: bold; text-align: right;\">13</td><td style = \"text-align: left;\">BX.KLT.DINV.CD.DT</td><td style = \"text-align: left;\">Foreign direct investment, net inflows in reporting economy (DRS, current US$)</td><td style = \"text-align: left;\">Foreign direct investment (net) shows the net change in foreign investment in the reporting country. Foreign direct investment is defined as investment that is made to acquire a lasting management interest (usually of 10 percent of voting stock) in an enterprise operating in a country other than that of the investor (defined according to residency), the investor&apos;s purpose being an effective voice in the management of the enterprise. It is the sum of equity capital, reinvestment of earnings, other long-term capital, and short-term capital as shown in the balance of payments. This series shows net inflows in the reporting economy. Data are in current U.S. dollars.</td><td style = \"text-align: left;\"> International Debt Statistics: DSSI</td><td style = \"text-align: left;\">International Monetary Fund, Balance of Payments, supplemented by data from United Nations Conference on Trade and Development and official national sources. Data starting from 2005 are based the sixth edition of the IMF&apos;s Balance of Payments Manual (BPM6).</td></tr><tr><td class = \"rowNumber\" style = \"font-weight: bold; text-align: right;\">14</td><td style = \"text-align: left;\">BX.KLT.DINV.CD.WD</td><td style = \"text-align: left;\">Foreign direct investment, net inflows (BoP, current US$)</td><td style = \"text-align: left;\">Foreign direct investment refers to direct investment equity flows in the reporting economy. It is the sum of equity capital, reinvestment of earnings, and other capital. Direct investment is a category of cross-border investment associated with a resident in one economy having control or a significant degree of influence on the management of an enterprise that is resident in another economy. Ownership of 10 percent or more of the ordinary shares of voting stock is the criterion for determining the existence of a direct investment relationship. Data are in current U.S. dollars.</td><td style = \"text-align: left;\">World Development Indicators</td><td style = \"text-align: left;\">International Monetary Fund, Balance of Payments database, supplemented by data from the United Nations Conference on Trade and Development and official national sources.</td></tr><tr><td class = \"rowNumber\" style = \"font-weight: bold; text-align: right;\">15</td><td style = \"text-align: left;\">BX.KLT.DINV.DT.GD.ZS</td><td style = \"text-align: left;\">Foreign direct investment, net inflows (% of GDP)</td><td style = \"text-align: left;\"></td><td style = \"text-align: left;\">WDI Database Archives</td><td style = \"text-align: left;\"></td></tr><tr><td class = \"rowNumber\" style = \"font-weight: bold; text-align: right;\">16</td><td style = \"text-align: left;\">BX.KLT.DINV.DT.GI.ZS</td><td style = \"text-align: left;\">Foreign direct investment, net inflows (% of gross capital formation)</td><td style = \"text-align: left;\"></td><td style = \"text-align: left;\">WDI Database Archives</td><td style = \"text-align: left;\"></td></tr><tr><td class = \"rowNumber\" style = \"font-weight: bold; text-align: right;\">17</td><td style = \"text-align: left;\">BX.KLT.DINV.WD.GD.ZS</td><td style = \"text-align: left;\">Foreign direct investment, net inflows (% of GDP)</td><td style = \"text-align: left;\">Foreign direct investment are the net inflows of investment to acquire a lasting management interest (10 percent or more of voting stock) in an enterprise operating in an economy other than that of the investor. It is the sum of equity capital, reinvestment of earnings, other long-term capital, and short-term capital as shown in the balance of payments. This series shows net inflows (new investment inflows less disinvestment) in the reporting economy from foreign investors, and is divided by GDP.</td><td style = \"text-align: left;\">World Development Indicators</td><td style = \"text-align: left;\">International Monetary Fund, International Financial Statistics and Balance of Payments databases, World Bank, International Debt Statistics, and World Bank and OECD GDP estimates.</td></tr></tbody></table></div>"
      ],
      "text/latex": [
       "\\begin{tabular}{r|ccc}\n",
       "\t& indicator & name & \\\\\n",
       "\t\\hline\n",
       "\t& String & String & \\\\\n",
       "\t\\hline\n",
       "\t1 & BG.KLT.DINV.GD.PP.ZS & Gross foreign direct investment (\\% of GDP, PPP) & $\\dots$ \\\\\n",
       "\t2 & BG.KLT.DINV.GD.ZS & Gross foreign direct investment (\\% of GDP) & $\\dots$ \\\\\n",
       "\t3 & BM.KLT.DINV.CD & Foreign direct investment, net outflows by reporting economy (IMF-BoP, current US\\$) & $\\dots$ \\\\\n",
       "\t4 & BM.KLT.DINV.CD.WD & Foreign direct investment, net outflows (BoP, current US\\$) & $\\dots$ \\\\\n",
       "\t5 & BM.KLT.DINV.GD.ZS & Foreign direct investment, net outflows (\\% of GDP) & $\\dots$ \\\\\n",
       "\t6 & BM.KLT.DINV.WD.GD.ZS & Foreign direct investment, net outflows (\\% of GDP) & $\\dots$ \\\\\n",
       "\t7 & BN.KLT.DINV.CD & Foreign direct investment, net (BoP, current US\\$) & $\\dots$ \\\\\n",
       "\t8 & BN.KLT.DINV.CD.DRS & Foreign direct investment, net inflows (US\\$) & $\\dots$ \\\\\n",
       "\t9 & BN.KLT.DINV.CD.ZS & Foreign direct investment (\\% of GDP) & $\\dots$ \\\\\n",
       "\t10 & BN.KLT.DINV.DRS.GDI.ZS & Foreign direct investment, net inflows (\\% of GDI) & $\\dots$ \\\\\n",
       "\t11 & BN.KLT.DINV.DRS.GDP.ZS & Foreign direct investment, net inflows (\\% of GDP) & $\\dots$ \\\\\n",
       "\t12 & BX.KLT.DINV.CD & Foreign direct investment, net inflows in reporting economy (IMF-BoP, current US\\$) & $\\dots$ \\\\\n",
       "\t13 & BX.KLT.DINV.CD.DT & Foreign direct investment, net inflows in reporting economy (DRS, current US\\$) & $\\dots$ \\\\\n",
       "\t14 & BX.KLT.DINV.CD.WD & Foreign direct investment, net inflows (BoP, current US\\$) & $\\dots$ \\\\\n",
       "\t15 & BX.KLT.DINV.DT.GD.ZS & Foreign direct investment, net inflows (\\% of GDP) & $\\dots$ \\\\\n",
       "\t16 & BX.KLT.DINV.DT.GI.ZS & Foreign direct investment, net inflows (\\% of gross capital formation) & $\\dots$ \\\\\n",
       "\t17 & BX.KLT.DINV.WD.GD.ZS & Foreign direct investment, net inflows (\\% of GDP) & $\\dots$ \\\\\n",
       "\\end{tabular}\n"
      ],
      "text/plain": [
       "\u001b[1m17×5 DataFrame\u001b[0m\n",
       "\u001b[1m Row \u001b[0m│\u001b[1m indicator              \u001b[0m\u001b[1m name                              \u001b[0m\u001b[1m description \u001b[0m ⋯\n",
       "     │\u001b[90m String                 \u001b[0m\u001b[90m String                            \u001b[0m\u001b[90m String      \u001b[0m ⋯\n",
       "─────┼──────────────────────────────────────────────────────────────────────────\n",
       "   1 │ BG.KLT.DINV.GD.PP.ZS    Gross foreign direct investment …               ⋯\n",
       "   2 │ BG.KLT.DINV.GD.ZS       Gross foreign direct investment …\n",
       "   3 │ BM.KLT.DINV.CD          Foreign direct investment, net o…  Foreign dire\n",
       "   4 │ BM.KLT.DINV.CD.WD       Foreign direct investment, net o…  Foreign dire\n",
       "   5 │ BM.KLT.DINV.GD.ZS       Foreign direct investment, net o…  Foreign dire ⋯\n",
       "   6 │ BM.KLT.DINV.WD.GD.ZS    Foreign direct investment, net o…  Foreign dire\n",
       "   7 │ BN.KLT.DINV.CD          Foreign direct investment, net (…  Foreign dire\n",
       "   8 │ BN.KLT.DINV.CD.DRS      Foreign direct investment, net i…\n",
       "   9 │ BN.KLT.DINV.CD.ZS       Foreign direct investment (% of …  Foreign dire ⋯\n",
       "  10 │ BN.KLT.DINV.DRS.GDI.ZS  Foreign direct investment, net i…\n",
       "  11 │ BN.KLT.DINV.DRS.GDP.ZS  Foreign direct investment, net i…\n",
       "  12 │ BX.KLT.DINV.CD          Foreign direct investment, net i…  Foreign dire\n",
       "  13 │ BX.KLT.DINV.CD.DT       Foreign direct investment, net i…  Foreign dire ⋯\n",
       "  14 │ BX.KLT.DINV.CD.WD       Foreign direct investment, net i…  Foreign dire\n",
       "  15 │ BX.KLT.DINV.DT.GD.ZS    Foreign direct investment, net i…\n",
       "  16 │ BX.KLT.DINV.DT.GI.ZS    Foreign direct investment, net i…\n",
       "  17 │ BX.KLT.DINV.WD.GD.ZS    Foreign direct investment, net i…  Foreign dire ⋯\n",
       "\u001b[36m                                                               3 columns omitted\u001b[0m"
      ]
     },
     "execution_count": 13,
     "metadata": {},
     "output_type": "execute_result"
    }
   ],
   "source": [
    "Foreign_Investment_WDI = search_wdi(\"indicators\",\"name\",r\"foreign direct investment\"i)"
   ]
  },
  {
   "cell_type": "code",
   "execution_count": 14,
   "id": "633aac58-6f01-4954-adc5-71e63a142de3",
   "metadata": {},
   "outputs": [
    {
     "data": {
      "text/html": [
       "<div><div style = \"float: left;\"><span>DataFrameRow (5 columns)</span></div><div style = \"clear: both;\"></div></div><div class = \"data-frame\" style = \"overflow-x: scroll;\"><table class = \"data-frame\" style = \"margin-bottom: 6px;\"><thead><tr class = \"header\"><th class = \"rowLabel\" style = \"font-weight: bold; text-align: right;\">Row</th><th style = \"text-align: left;\">indicator</th><th style = \"text-align: left;\">name</th><th style = \"text-align: left;\">description</th><th style = \"text-align: left;\">source_database</th><th style = \"text-align: left;\">source_organization</th></tr><tr class = \"subheader headerLastRow\"><th class = \"rowLabel\" style = \"font-weight: bold; text-align: right;\"></th><th title = \"String\" style = \"text-align: left;\">String</th><th title = \"String\" style = \"text-align: left;\">String</th><th title = \"String\" style = \"text-align: left;\">String</th><th title = \"String\" style = \"text-align: left;\">String</th><th title = \"String\" style = \"text-align: left;\">String</th></tr></thead><tbody><tr><td class = \"rowLabel\" style = \"font-weight: bold; text-align: right;\">7</td><td style = \"text-align: left;\">BN.KLT.DINV.CD</td><td style = \"text-align: left;\">Foreign direct investment, net (BoP, current US$)</td><td style = \"text-align: left;\">Foreign direct investment are the net inflows of investment to acquire a lasting management interest (10 percent or more of voting stock) in an enterprise operating in an economy other than that of the investor. It is the sum of equity capital, reinvestment of earnings, other long-term capital, and short-term capital as shown in the balance of payments. This series shows total net FDI. In BPM6, financial account balances are calculated as the change in assets minus the change in liabilities. Net FDI outflows are assets and net FDI inflows are liabilities. Data are in current U.S. dollars.</td><td style = \"text-align: left;\">World Development Indicators</td><td style = \"text-align: left;\">International Monetary Fund, Balance of Payments Statistics Yearbook and data files.</td></tr></tbody></table></div>"
      ],
      "text/latex": [
       "\\begin{tabular}{r|cccc}\n",
       "\t& indicator & name & description & \\\\\n",
       "\t\\hline\n",
       "\t& String & String & String & \\\\\n",
       "\t\\hline\n",
       "\t7 & BN.KLT.DINV.CD & Foreign direct investment, net (BoP, current US\\$) & Foreign direct investment are the net inflows of investment to acquire a lasting management interest (10 percent or more of voting stock) in an enterprise operating in an economy other than that of the investor. It is the sum of equity capital, reinvestment of earnings, other long-term capital, and short-term capital as shown in the balance of payments. This series shows total net FDI. In BPM6, financial account balances are calculated as the change in assets minus the change in liabilities. Net FDI outflows are assets and net FDI inflows are liabilities. Data are in current U.S. dollars. & $\\dots$ \\\\\n",
       "\\end{tabular}\n"
      ],
      "text/plain": [
       "\u001b[1mDataFrameRow\u001b[0m\n",
       "\u001b[1m Row \u001b[0m│\u001b[1m indicator      \u001b[0m\u001b[1m name                              \u001b[0m\u001b[1m description         \u001b[0m ⋯\n",
       "     │\u001b[90m String         \u001b[0m\u001b[90m String                            \u001b[0m\u001b[90m String              \u001b[0m ⋯\n",
       "─────┼──────────────────────────────────────────────────────────────────────────\n",
       "   7 │ BN.KLT.DINV.CD  Foreign direct investment, net (…  Foreign direct inves ⋯\n",
       "\u001b[36m                                                               3 columns omitted\u001b[0m"
      ]
     },
     "execution_count": 14,
     "metadata": {},
     "output_type": "execute_result"
    }
   ],
   "source": [
    "choose_row_UNRATE = Foreign_Investment_WDI[7, :]"
   ]
  },
  {
   "cell_type": "code",
   "execution_count": 15,
   "id": "5765d0a0-29a8-4790-9a03-bfe4af5c62e7",
   "metadata": {
    "tags": []
   },
   "outputs": [
    {
     "name": "stdout",
     "output_type": "stream",
     "text": [
      "The indicator of the data set we are interested in is: BN.KLT.DINV.CD \n"
     ]
    }
   ],
   "source": [
    "Indicator_Foreign_Investment = Foreign_Investment_WDI[7, :indicator]\n",
    "println(\"The indicator of the data set we are interested in is: $(Indicator_Foreign_Investment) \")"
   ]
  },
  {
   "cell_type": "markdown",
   "id": "e5909877-6336-4d11-bd04-a70143f51ab1",
   "metadata": {},
   "source": [
    "### 2. Explore **www.interest.co.nz**"
   ]
  },
  {
   "cell_type": "markdown",
   "id": "dc7d3d28-06c0-45d7-9fe3-9ab97b5cf3a7",
   "metadata": {},
   "source": [
    "#### Define related functions"
   ]
  },
  {
   "cell_type": "code",
   "execution_count": 16,
   "id": "4bc62aa8-c1c0-49cf-b8ef-91798278eaa0",
   "metadata": {},
   "outputs": [
    {
     "data": {
      "text/plain": [
       "get_save_csv (generic function with 1 method)"
      ]
     },
     "execution_count": 16,
     "metadata": {},
     "output_type": "execute_result"
    }
   ],
   "source": [
    "function save_csv(data::DataFrame, filename)\n",
    "    # Ensure the \"dataset\" subdirectory exists, or create it\n",
    "    if !isdir(joinpath(current_directory, \"DataSet\"))\n",
    "        mkdir(joinpath(current_directory, \"DataSet\"))\n",
    "    end\n",
    "    \n",
    "    path = joinpath(current_directory, \"DataSet\", filename)  \n",
    "    CSV.write(path, data)\n",
    "end\n",
    "\n",
    "function get_json(id::String)\n",
    "    resp = HTTP.request(\"POST\", \"https://www.interest.co.nz/chart-data/get-csv-data\";\n",
    "        headers = Dict(\"Content-Type\" => \"application/x-www-form-urlencoded; charset=utf-8\"),\n",
    "        body = HTTP.URIs.escapeuri(Dict(\"nids[]\" => id)))\n",
    "\n",
    "    json_body = JSON.parse(transcode(String, resp.body))\n",
    "    return json_body\n",
    "end\n",
    "\n",
    "function json2dataframe(id::String, json, colname)\n",
    "    lines = json[id][\"csv_data\"][1]\n",
    "\n",
    "    df = DataFrame(date = String[], data = Float64[])\n",
    "\n",
    "    for line in lines\n",
    "        t = unix2datetime(line[1] / 1000)\n",
    "        ts = Dates.format(t, \"Y-m-d\")\n",
    "        d = 1 / line[2]  # Take the inverse of the exchange rate\n",
    "        push!(df, [ts, d])\n",
    "    end\n",
    "\n",
    "    rename!(df,:data => colname)\n",
    "end\n",
    "\n",
    "function get_save_csv(id::String, filename, colname)\n",
    "    json = get_json(id)\n",
    "    df = json2dataframe(id, json, colname)\n",
    "    save_csv(df, filename)\n",
    "end"
   ]
  },
  {
   "cell_type": "markdown",
   "id": "353f4846-d55b-47c9-a15e-2cd93adade7e",
   "metadata": {},
   "source": [
    "#### Get a time series of New Zealand exchange rates"
   ]
  },
  {
   "cell_type": "code",
   "execution_count": 17,
   "id": "3633dcee-af3f-46f6-ac5d-5ff749036bcf",
   "metadata": {
    "scrolled": true
   },
   "outputs": [
    {
     "data": {
      "text/plain": [
       "\"/Users/linsong/Documents/Data 422 Group Assignment/DataSet/nz_exchange_rate.csv\""
      ]
     },
     "execution_count": 17,
     "metadata": {},
     "output_type": "execute_result"
    }
   ],
   "source": [
    "# Get usd-nzd exchange rate\n",
    "get_save_csv(\"79333\", \"nz_exchange_rate.csv\", \"NZD exchange rate\")"
   ]
  }
 ],
 "metadata": {
  "kernelspec": {
   "display_name": "Julia 1.9.2",
   "language": "julia",
   "name": "julia-1.9"
  },
  "language_info": {
   "file_extension": ".jl",
   "mimetype": "application/julia",
   "name": "julia",
   "version": "1.9.2"
  }
 },
 "nbformat": 4,
 "nbformat_minor": 5
}
