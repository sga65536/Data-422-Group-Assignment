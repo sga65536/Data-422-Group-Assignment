{
 "cells": [
  {
   "cell_type": "markdown",
   "id": "4dfea3ca-c84b-432a-954b-8928387ad69f",
   "metadata": {
    "tags": []
   },
   "source": [
    "## Model Building Process"
   ]
  },
  {
   "cell_type": "markdown",
   "id": "7e0477fc-06a7-4fef-815b-295bfb5b3c62",
   "metadata": {},
   "source": [
    "Through graphical exploratory data analysis of clean data sets, we found that the trend in employment rates may be greatly affected by the following external factors:\n",
    "- BCI\n",
    "- Exchange Rate\n",
    "- GDP\n",
    "- CPI\n",
    "- Export\n",
    "\n",
    "In this step, the trend of employment rate is analyzed by conducting time series research on the data set, and the employment situation in the next two years is predicted by fitting a time series model."
   ]
  },
  {
   "cell_type": "markdown",
   "id": "1f0a5132-ede5-46aa-91ca-32ed2bfd752a",
   "metadata": {},
   "source": [
    "#### 1. Selecting Predictive Variables"
   ]
  },
  {
   "cell_type": "code",
   "execution_count": 26,
   "id": "0d8b0546-82c9-4f04-b991-0e8737051945",
   "metadata": {},
   "outputs": [],
   "source": [
    "#install.packages(\"Boruta\")"
   ]
  },
  {
   "cell_type": "code",
   "execution_count": 113,
   "id": "62342f44-f9cc-42fb-aa70-73516deb5ca4",
   "metadata": {
    "tags": []
   },
   "outputs": [],
   "source": [
    "library(WDI)\n",
    "library(ggplot2)\n",
    "library(gganimate)\n",
    "library(tidyverse)\n",
    "library(visdat)\n",
    "library(repr)\n",
    "library(Boruta)"
   ]
  },
  {
   "cell_type": "markdown",
   "id": "611515e5-bb7e-4be0-88d1-158a634f1689",
   "metadata": {},
   "source": [
    "- **Load the required dataset**"
   ]
  },
  {
   "cell_type": "code",
   "execution_count": 114,
   "id": "0cc46e75-eebf-4196-be6f-1fdc5ffefdf6",
   "metadata": {
    "tags": []
   },
   "outputs": [
    {
     "data": {
      "text/html": [
       "<table class=\"dataframe\">\n",
       "<caption>A data.frame: 6 × 10</caption>\n",
       "<thead>\n",
       "\t<tr><th></th><th scope=col>Year</th><th scope=col>Unemployment_Rate</th><th scope=col>GDP</th><th scope=col>Foreign_Investment</th><th scope=col>GDP_Growth</th><th scope=col>CPI</th><th scope=col>Mean_Exchange_Rate</th><th scope=col>Export_Billion</th><th scope=col>mean_CCI</th><th scope=col>mean_BCI</th></tr>\n",
       "\t<tr><th></th><th scope=col>&lt;int&gt;</th><th scope=col>&lt;dbl&gt;</th><th scope=col>&lt;dbl&gt;</th><th scope=col>&lt;dbl&gt;</th><th scope=col>&lt;dbl&gt;</th><th scope=col>&lt;dbl&gt;</th><th scope=col>&lt;dbl&gt;</th><th scope=col>&lt;dbl&gt;</th><th scope=col>&lt;dbl&gt;</th><th scope=col>&lt;dbl&gt;</th></tr>\n",
       "</thead>\n",
       "<tbody>\n",
       "\t<tr><th scope=row>26</th><td>2016</td><td>5.15</td><td>188838342528</td><td>-2772739977</td><td> 3.8017580</td><td>0.6462403</td><td>1.436805</td><td>50.32</td><td> 99.93822</td><td>101.10304</td></tr>\n",
       "\t<tr><th scope=row>27</th><td>2017</td><td>4.74</td><td>206556258845</td><td>-2470087076</td><td> 3.5244132</td><td>1.8507877</td><td>1.407110</td><td>56.99</td><td>100.28748</td><td>101.00427</td></tr>\n",
       "\t<tr><th scope=row>28</th><td>2018</td><td>4.33</td><td>211886686924</td><td>-1872342297</td><td> 3.5251832</td><td>1.5982970</td><td>1.444981</td><td>59.07</td><td> 99.80549</td><td> 99.35964</td></tr>\n",
       "\t<tr><th scope=row>29</th><td>2019</td><td>4.11</td><td>213091987153</td><td>-4474410771</td><td> 2.4459832</td><td>1.6196319</td><td>1.517566</td><td>58.22</td><td> 99.45966</td><td> 98.45480</td></tr>\n",
       "\t<tr><th scope=row>30</th><td>2020</td><td>4.60</td><td>212569779570</td><td>-3413149095</td><td>-0.6539214</td><td>1.7145617</td><td>1.541536</td><td>46.21</td><td> 98.96570</td><td> 98.35710</td></tr>\n",
       "\t<tr><th scope=row>31</th><td>2021</td><td>3.78</td><td>255551704626</td><td>-5609121605</td><td> 5.1678474</td><td>3.9411206</td><td>1.413844</td><td>56.61</td><td> 99.35504</td><td> 99.70014</td></tr>\n",
       "</tbody>\n",
       "</table>\n"
      ],
      "text/latex": [
       "A data.frame: 6 × 10\n",
       "\\begin{tabular}{r|llllllllll}\n",
       "  & Year & Unemployment\\_Rate & GDP & Foreign\\_Investment & GDP\\_Growth & CPI & Mean\\_Exchange\\_Rate & Export\\_Billion & mean\\_CCI & mean\\_BCI\\\\\n",
       "  & <int> & <dbl> & <dbl> & <dbl> & <dbl> & <dbl> & <dbl> & <dbl> & <dbl> & <dbl>\\\\\n",
       "\\hline\n",
       "\t26 & 2016 & 5.15 & 188838342528 & -2772739977 &  3.8017580 & 0.6462403 & 1.436805 & 50.32 &  99.93822 & 101.10304\\\\\n",
       "\t27 & 2017 & 4.74 & 206556258845 & -2470087076 &  3.5244132 & 1.8507877 & 1.407110 & 56.99 & 100.28748 & 101.00427\\\\\n",
       "\t28 & 2018 & 4.33 & 211886686924 & -1872342297 &  3.5251832 & 1.5982970 & 1.444981 & 59.07 &  99.80549 &  99.35964\\\\\n",
       "\t29 & 2019 & 4.11 & 213091987153 & -4474410771 &  2.4459832 & 1.6196319 & 1.517566 & 58.22 &  99.45966 &  98.45480\\\\\n",
       "\t30 & 2020 & 4.60 & 212569779570 & -3413149095 & -0.6539214 & 1.7145617 & 1.541536 & 46.21 &  98.96570 &  98.35710\\\\\n",
       "\t31 & 2021 & 3.78 & 255551704626 & -5609121605 &  5.1678474 & 3.9411206 & 1.413844 & 56.61 &  99.35504 &  99.70014\\\\\n",
       "\\end{tabular}\n"
      ],
      "text/markdown": [
       "\n",
       "A data.frame: 6 × 10\n",
       "\n",
       "| <!--/--> | Year &lt;int&gt; | Unemployment_Rate &lt;dbl&gt; | GDP &lt;dbl&gt; | Foreign_Investment &lt;dbl&gt; | GDP_Growth &lt;dbl&gt; | CPI &lt;dbl&gt; | Mean_Exchange_Rate &lt;dbl&gt; | Export_Billion &lt;dbl&gt; | mean_CCI &lt;dbl&gt; | mean_BCI &lt;dbl&gt; |\n",
       "|---|---|---|---|---|---|---|---|---|---|---|\n",
       "| 26 | 2016 | 5.15 | 188838342528 | -2772739977 |  3.8017580 | 0.6462403 | 1.436805 | 50.32 |  99.93822 | 101.10304 |\n",
       "| 27 | 2017 | 4.74 | 206556258845 | -2470087076 |  3.5244132 | 1.8507877 | 1.407110 | 56.99 | 100.28748 | 101.00427 |\n",
       "| 28 | 2018 | 4.33 | 211886686924 | -1872342297 |  3.5251832 | 1.5982970 | 1.444981 | 59.07 |  99.80549 |  99.35964 |\n",
       "| 29 | 2019 | 4.11 | 213091987153 | -4474410771 |  2.4459832 | 1.6196319 | 1.517566 | 58.22 |  99.45966 |  98.45480 |\n",
       "| 30 | 2020 | 4.60 | 212569779570 | -3413149095 | -0.6539214 | 1.7145617 | 1.541536 | 46.21 |  98.96570 |  98.35710 |\n",
       "| 31 | 2021 | 3.78 | 255551704626 | -5609121605 |  5.1678474 | 3.9411206 | 1.413844 | 56.61 |  99.35504 |  99.70014 |\n",
       "\n"
      ],
      "text/plain": [
       "   Year Unemployment_Rate GDP          Foreign_Investment GDP_Growth CPI      \n",
       "26 2016 5.15              188838342528 -2772739977         3.8017580 0.6462403\n",
       "27 2017 4.74              206556258845 -2470087076         3.5244132 1.8507877\n",
       "28 2018 4.33              211886686924 -1872342297         3.5251832 1.5982970\n",
       "29 2019 4.11              213091987153 -4474410771         2.4459832 1.6196319\n",
       "30 2020 4.60              212569779570 -3413149095        -0.6539214 1.7145617\n",
       "31 2021 3.78              255551704626 -5609121605         5.1678474 3.9411206\n",
       "   Mean_Exchange_Rate Export_Billion mean_CCI  mean_BCI \n",
       "26 1.436805           50.32           99.93822 101.10304\n",
       "27 1.407110           56.99          100.28748 101.00427\n",
       "28 1.444981           59.07           99.80549  99.35964\n",
       "29 1.517566           58.22           99.45966  98.45480\n",
       "30 1.541536           46.21           98.96570  98.35710\n",
       "31 1.413844           56.61           99.35504  99.70014"
      ]
     },
     "metadata": {},
     "output_type": "display_data"
    }
   ],
   "source": [
    "# Read CSV file\n",
    "Merged_BCI <- read.csv(\"./tidy_data.csv\")\n",
    "tail(Merged_BCI)"
   ]
  },
  {
   "cell_type": "markdown",
   "id": "9ed9fb76-a436-4a8c-bc0d-edd0d315ccd1",
   "metadata": {},
   "source": [
    "Upon examining the dataset, it was observed that \"Foreign Investment\" contains a significant number of missing values. It would be beneficial to create a plot to identify any patterns or trends in the data."
   ]
  },
  {
   "cell_type": "code",
   "execution_count": 115,
   "id": "171fe989-63bd-4ce2-9b65-5adb1b921b6f",
   "metadata": {
    "tags": []
   },
   "outputs": [
    {
     "name": "stderr",
     "output_type": "stream",
     "text": [
      "Warning message:\n",
      "\"\u001b[1m\u001b[22mRemoved 9 rows containing missing values (`geom_line()`).\"\n"
     ]
    },
    {
     "data": {
      "image/png": "[encoded data removed]",
      "text/plain": [
       "plot without title"
      ]
     },
     "metadata": {
      "image/png": {
       "height": 300,
       "width": 600
      }
     },
     "output_type": "display_data"
    }
   ],
   "source": [
    "# Create a line plot of Year vs. Foreign_Investment\n",
    "\n",
    "options(repr.plot.width=10, repr.plot.height=5)\n",
    "ggplot(data = Merged_BCI, aes(x = Year, y = Foreign_Investment)) +\n",
    "  geom_line() +\n",
    "  labs(x = \"Year\", y = \"Foreign Investment\") +\n",
    "  ggtitle(\"Foreign Investment Over Time\")"
   ]
  },
  {
   "cell_type": "markdown",
   "id": "a6566e82-013e-463e-87a9-9a43f20f4304",
   "metadata": {},
   "source": [
    "It's interesting to observe that foreign investment exhibits a periodic trend. Every several years, the investment experiences a small increase, followed by a more pronounced increase. It then drops suddenly and significantly. This cycle occurs three times between 2000 and 2023. Therefore, we can use this pattern to impute the missing values before 2000."
   ]
  },
  {
   "cell_type": "markdown",
   "id": "30d0e9bc-442c-4fdc-be95-9b3c094a9ede",
   "metadata": {},
   "source": [
    "There are a large number of missing values, which will affect data correlation testing and modeling, so the Kalman smoothing method is used to impute the missing values in the \"Foreign_Investment\" column."
   ]
  },
  {
   "cell_type": "code",
   "execution_count": 116,
   "id": "d2744d2f-16fb-4045-a18c-5c57d1e2e93e",
   "metadata": {
    "tags": []
   },
   "outputs": [
    {
     "data": {
      "text/html": [
       "<table class=\"dataframe\">\n",
       "<caption>A data.frame: 6 × 10</caption>\n",
       "<thead>\n",
       "\t<tr><th></th><th scope=col>Year</th><th scope=col>Unemployment_Rate</th><th scope=col>GDP</th><th scope=col>Foreign_Investment</th><th scope=col>GDP_Growth</th><th scope=col>CPI</th><th scope=col>Mean_Exchange_Rate</th><th scope=col>Export_Billion</th><th scope=col>mean_CCI</th><th scope=col>mean_BCI</th></tr>\n",
       "\t<tr><th></th><th scope=col>&lt;int&gt;</th><th scope=col>&lt;dbl&gt;</th><th scope=col>&lt;dbl&gt;</th><th scope=col>&lt;dbl&gt;</th><th scope=col>&lt;dbl&gt;</th><th scope=col>&lt;dbl&gt;</th><th scope=col>&lt;dbl&gt;</th><th scope=col>&lt;dbl&gt;</th><th scope=col>&lt;dbl&gt;</th><th scope=col>&lt;dbl&gt;</th></tr>\n",
       "</thead>\n",
       "<tbody>\n",
       "\t<tr><th scope=row>1</th><td>1991</td><td>10.61</td><td>42744828653</td><td>-2331869029</td><td>-1.090792</td><td>2.602393</td><td>1.727675</td><td>12.46</td><td> 96.87869</td><td> 99.18528</td></tr>\n",
       "\t<tr><th scope=row>2</th><td>1992</td><td>10.67</td><td>41649386970</td><td>-2183022254</td><td> 1.093834</td><td>1.014560</td><td>1.859296</td><td>12.99</td><td> 99.41322</td><td>103.02523</td></tr>\n",
       "\t<tr><th scope=row>3</th><td>1993</td><td> 9.80</td><td>46775038749</td><td>-2037359814</td><td> 6.391529</td><td>1.288208</td><td>1.849940</td><td>14.31</td><td>101.08517</td><td>103.56240</td></tr>\n",
       "\t<tr><th scope=row>4</th><td>1994</td><td> 8.35</td><td>55313381443</td><td>-1896335647</td><td> 5.119248</td><td>1.745378</td><td>1.685681</td><td>17.02</td><td>102.11631</td><td>103.18218</td></tr>\n",
       "\t<tr><th scope=row>5</th><td>1995</td><td> 6.46</td><td>63916899264</td><td>-1761403687</td><td> 4.722081</td><td>3.754944</td><td>1.523514</td><td>18.79</td><td>101.72528</td><td>100.27095</td></tr>\n",
       "\t<tr><th scope=row>6</th><td>1996</td><td> 6.29</td><td>70140835299</td><td>-1634017870</td><td> 3.615674</td><td>2.285713</td><td>1.454756</td><td>19.88</td><td>101.40378</td><td> 99.83620</td></tr>\n",
       "</tbody>\n",
       "</table>\n"
      ],
      "text/latex": [
       "A data.frame: 6 × 10\n",
       "\\begin{tabular}{r|llllllllll}\n",
       "  & Year & Unemployment\\_Rate & GDP & Foreign\\_Investment & GDP\\_Growth & CPI & Mean\\_Exchange\\_Rate & Export\\_Billion & mean\\_CCI & mean\\_BCI\\\\\n",
       "  & <int> & <dbl> & <dbl> & <dbl> & <dbl> & <dbl> & <dbl> & <dbl> & <dbl> & <dbl>\\\\\n",
       "\\hline\n",
       "\t1 & 1991 & 10.61 & 42744828653 & -2331869029 & -1.090792 & 2.602393 & 1.727675 & 12.46 &  96.87869 &  99.18528\\\\\n",
       "\t2 & 1992 & 10.67 & 41649386970 & -2183022254 &  1.093834 & 1.014560 & 1.859296 & 12.99 &  99.41322 & 103.02523\\\\\n",
       "\t3 & 1993 &  9.80 & 46775038749 & -2037359814 &  6.391529 & 1.288208 & 1.849940 & 14.31 & 101.08517 & 103.56240\\\\\n",
       "\t4 & 1994 &  8.35 & 55313381443 & -1896335647 &  5.119248 & 1.745378 & 1.685681 & 17.02 & 102.11631 & 103.18218\\\\\n",
       "\t5 & 1995 &  6.46 & 63916899264 & -1761403687 &  4.722081 & 3.754944 & 1.523514 & 18.79 & 101.72528 & 100.27095\\\\\n",
       "\t6 & 1996 &  6.29 & 70140835299 & -1634017870 &  3.615674 & 2.285713 & 1.454756 & 19.88 & 101.40378 &  99.83620\\\\\n",
       "\\end{tabular}\n"
      ],
      "text/markdown": [
       "\n",
       "A data.frame: 6 × 10\n",
       "\n",
       "| <!--/--> | Year &lt;int&gt; | Unemployment_Rate &lt;dbl&gt; | GDP &lt;dbl&gt; | Foreign_Investment &lt;dbl&gt; | GDP_Growth &lt;dbl&gt; | CPI &lt;dbl&gt; | Mean_Exchange_Rate &lt;dbl&gt; | Export_Billion &lt;dbl&gt; | mean_CCI &lt;dbl&gt; | mean_BCI &lt;dbl&gt; |\n",
       "|---|---|---|---|---|---|---|---|---|---|---|\n",
       "| 1 | 1991 | 10.61 | 42744828653 | -2331869029 | -1.090792 | 2.602393 | 1.727675 | 12.46 |  96.87869 |  99.18528 |\n",
       "| 2 | 1992 | 10.67 | 41649386970 | -2183022254 |  1.093834 | 1.014560 | 1.859296 | 12.99 |  99.41322 | 103.02523 |\n",
       "| 3 | 1993 |  9.80 | 46775038749 | -2037359814 |  6.391529 | 1.288208 | 1.849940 | 14.31 | 101.08517 | 103.56240 |\n",
       "| 4 | 1994 |  8.35 | 55313381443 | -1896335647 |  5.119248 | 1.745378 | 1.685681 | 17.02 | 102.11631 | 103.18218 |\n",
       "| 5 | 1995 |  6.46 | 63916899264 | -1761403687 |  4.722081 | 3.754944 | 1.523514 | 18.79 | 101.72528 | 100.27095 |\n",
       "| 6 | 1996 |  6.29 | 70140835299 | -1634017870 |  3.615674 | 2.285713 | 1.454756 | 19.88 | 101.40378 |  99.83620 |\n",
       "\n"
      ],
      "text/plain": [
       "  Year Unemployment_Rate GDP         Foreign_Investment GDP_Growth CPI     \n",
       "1 1991 10.61             42744828653 -2331869029        -1.090792  2.602393\n",
       "2 1992 10.67             41649386970 -2183022254         1.093834  1.014560\n",
       "3 1993  9.80             46775038749 -2037359814         6.391529  1.288208\n",
       "4 1994  8.35             55313381443 -1896335647         5.119248  1.745378\n",
       "5 1995  6.46             63916899264 -1761403687         4.722081  3.754944\n",
       "6 1996  6.29             70140835299 -1634017870         3.615674  2.285713\n",
       "  Mean_Exchange_Rate Export_Billion mean_CCI  mean_BCI \n",
       "1 1.727675           12.46           96.87869  99.18528\n",
       "2 1.859296           12.99           99.41322 103.02523\n",
       "3 1.849940           14.31          101.08517 103.56240\n",
       "4 1.685681           17.02          102.11631 103.18218\n",
       "5 1.523514           18.79          101.72528 100.27095\n",
       "6 1.454756           19.88          101.40378  99.83620"
      ]
     },
     "metadata": {},
     "output_type": "display_data"
    }
   ],
   "source": [
    "library(imputeTS)\n",
    "\n",
    "# Impute missing values in \"Foreign_Investment\" using the Kalman smoothing method\n",
    "Merged_BCI$Foreign_Investment <- na_kalman(Merged_BCI$Foreign_Investment)\n",
    "\n",
    "head(Merged_BCI)"
   ]
  },
  {
   "cell_type": "markdown",
   "id": "d54c8e91-152b-4d67-9c4e-e7dea043826e",
   "metadata": {},
   "source": [
    "All the columns in the data frame obtained through the above steps have the potential to be used to fit the model and predict the data, but in fact not so many may be used, and some are redundant. In order to reduce the amount of calculation and prevent Overfitting requires filtering the variables used to fit the model."
   ]
  },
  {
   "cell_type": "markdown",
   "id": "e572edc5-3e01-4822-b4a7-706bd92bbd59",
   "metadata": {},
   "source": [
    "- **Determine fitting variables**"
   ]
  },
  {
   "cell_type": "markdown",
   "id": "74680c9d-60e8-4a1c-8f41-6b5fe4a0cb33",
   "metadata": {},
   "source": [
    "We choose Boruta, a random forest-based feature selection method, to determine which features are most important to the prediction model."
   ]
  },
  {
   "cell_type": "code",
   "execution_count": 117,
   "id": "432f9e1f-e2dd-4ebc-a92b-199327d1620f",
   "metadata": {
    "tags": []
   },
   "outputs": [
    {
     "data": {
      "image/png": "[encoded data removed]",
      "text/plain": [
       "plot without title"
      ]
     },
     "metadata": {
      "image/png": {
       "height": 300,
       "width": 600
      }
     },
     "output_type": "display_data"
    }
   ],
   "source": [
    "library(Boruta)\n",
    "\n",
    "set.seed(2023)\n",
    "\n",
    "# Run Boruta on the Unemployment Rate variable\n",
    "results <- Boruta(Unemployment_Rate ~ ., data = Merged_BCI, maxRuns = 100)\n",
    "\n",
    "# Plot the Boruta results\n",
    "options(repr.plot.width=10, repr.plot.height=5)\n",
    "plot(results, xlab = \"Variable Importance\", xaxt = \"n\")\n",
    "\n",
    "# Extract the importance history for each variable\n",
    "lz <- lapply(1:ncol(results$ImpHistory), FUN = function(i) {\n",
    "  results$ImpHistory[is.finite(results$ImpHistory[, i]), i]\n",
    "})\n",
    "names(lz) <- colnames(results$ImpHistory)\n",
    "\n",
    "# Sort variables by median importance\n",
    "Labels <- sort(sapply(lz, median))\n",
    "\n",
    "# Create axis labels\n",
    "axis(side = 1, las = 2, labels = names(Labels), at = 1:ncol(results$ImpHistory), cex.axis = 0.7)\n",
    "\n",
    "# Add a legend to the plot\n",
    "legend('topleft', c(\"Confirmed\", \"Tentative\", \"Rejected\", \"Shadow\"),\n",
    "       col = c(\"green\", \"yellow\", \"red\", \"blue\"), lwd = 10, xjust = 0.5, yjust = 0.5)\n"
   ]
  },
  {
   "cell_type": "markdown",
   "id": "206fe205-fb6d-49f9-9561-b2cfcc1e83e4",
   "metadata": {},
   "source": [
    "We can observe that **Exchange, Exports, GDP, BCI, Year** is marked as \"Confirmed\" and **CPI** is marked as \"Tentative\". These variables appear suitable for constructing a time series model. This outcome aligns with the results from our previous plot, 'Correlation of Variables with Unemployment Rate.' Consequently, we will use them as a starting point for building the model."
   ]
  },
  {
   "cell_type": "markdown",
   "id": "160affda-e8fa-4fb8-bb2c-a4181cf2b9f8",
   "metadata": {},
   "source": [
    "#### 2. Data inspection and modeling"
   ]
  },
  {
   "cell_type": "markdown",
   "id": "5e238d27-bdbb-4ead-b8b7-22cbd386889b",
   "metadata": {},
   "source": [
    "##### (1) Check for multicollinearity"
   ]
  },
  {
   "cell_type": "markdown",
   "id": "7ee0454c-fb92-4eec-ad91-98638a333b48",
   "metadata": {},
   "source": [
    "From the earlier analysis, we've identified the presence of multicollinearity in the data. Multicollinearity can lead to unstable parameter estimates and difficulty in interpretation. To address potential multicollinearity issues among variables, we will now utilize Variance Inflation Factors (VIF) for further detection."
   ]
  },
  {
   "cell_type": "code",
   "execution_count": 43,
   "id": "3ad89d68-6275-4237-a5db-9e3fa8993607",
   "metadata": {
    "tags": []
   },
   "outputs": [],
   "source": [
    "# install.packages(\"car\")\n",
    "library(car)"
   ]
  },
  {
   "cell_type": "code",
   "execution_count": 44,
   "id": "9e150e92-6008-4e0b-b63c-aa7f85065cdf",
   "metadata": {
    "tags": []
   },
   "outputs": [
    {
     "data": {
      "text/html": [
       "<style>\n",
       ".dl-inline {width: auto; margin:0; padding: 0}\n",
       ".dl-inline>dt, .dl-inline>dd {float: none; width: auto; display: inline-block}\n",
       ".dl-inline>dt::after {content: \":\\0020\"; padding-right: .5ex}\n",
       ".dl-inline>dt:not(:first-of-type) {padding-left: .5ex}\n",
       "</style><dl class=dl-inline><dt>Export_Billion</dt><dd>22.8768077232631</dd><dt>GDP</dt><dd>22.0054543792359</dd><dt>CPI</dt><dd>1.32607561755783</dd><dt>mean_BCI</dt><dd>1.37121219282111</dd><dt>Mean_Exchange_Rate</dt><dd>2.03827124134925</dd></dl>\n"
      ],
      "text/latex": [
       "\\begin{description*}\n",
       "\\item[Export\\textbackslash{}\\_Billion] 22.8768077232631\n",
       "\\item[GDP] 22.0054543792359\n",
       "\\item[CPI] 1.32607561755783\n",
       "\\item[mean\\textbackslash{}\\_BCI] 1.37121219282111\n",
       "\\item[Mean\\textbackslash{}\\_Exchange\\textbackslash{}\\_Rate] 2.03827124134925\n",
       "\\end{description*}\n"
      ],
      "text/markdown": [
       "Export_Billion\n",
       ":   22.8768077232631GDP\n",
       ":   22.0054543792359CPI\n",
       ":   1.32607561755783mean_BCI\n",
       ":   1.37121219282111Mean_Exchange_Rate\n",
       ":   2.03827124134925\n",
       "\n"
      ],
      "text/plain": [
       "    Export_Billion                GDP                CPI           mean_BCI \n",
       "         22.876808          22.005454           1.326076           1.371212 \n",
       "Mean_Exchange_Rate \n",
       "          2.038271 "
      ]
     },
     "metadata": {},
     "output_type": "display_data"
    }
   ],
   "source": [
    "model <- lm(Unemployment_Rate ~ Export_Billion + GDP + CPI + mean_BCI + Mean_Exchange_Rate, data = Merged_BCI)\n",
    "vif(model)"
   ]
  },
  {
   "cell_type": "markdown",
   "id": "e173a7ad-34e9-427c-848c-3a8cc4ac8648",
   "metadata": {},
   "source": [
    "The VIF results indicate that both **Export_Billion** (VIF: 22.88) and **GDP** (VIF: 22.01) have VIF values exceeding 10, which suggests a high degree of collinearity. On the other hand, the VIF values for other variables, namely CPI, mean_BCI, and Mean_Exchange_Rate, are below 10, signifying lower correlation with the other predictor variables. To address this issue, we conducted a test after removing the **GDP** variable."
   ]
  },
  {
   "cell_type": "code",
   "execution_count": 45,
   "id": "abaeb993-e52b-40a8-8e70-ccd07e4beae9",
   "metadata": {
    "tags": []
   },
   "outputs": [
    {
     "data": {
      "text/html": [
       "<style>\n",
       ".dl-inline {width: auto; margin:0; padding: 0}\n",
       ".dl-inline>dt, .dl-inline>dd {float: none; width: auto; display: inline-block}\n",
       ".dl-inline>dt::after {content: \":\\0020\"; padding-right: .5ex}\n",
       ".dl-inline>dt:not(:first-of-type) {padding-left: .5ex}\n",
       "</style><dl class=dl-inline><dt>Export_Billion</dt><dd>2.07216074873405</dd><dt>CPI</dt><dd>1.31717727213906</dd><dt>mean_BCI</dt><dd>1.34112524859799</dd><dt>Mean_Exchange_Rate</dt><dd>2.03827052114782</dd></dl>\n"
      ],
      "text/latex": [
       "\\begin{description*}\n",
       "\\item[Export\\textbackslash{}\\_Billion] 2.07216074873405\n",
       "\\item[CPI] 1.31717727213906\n",
       "\\item[mean\\textbackslash{}\\_BCI] 1.34112524859799\n",
       "\\item[Mean\\textbackslash{}\\_Exchange\\textbackslash{}\\_Rate] 2.03827052114782\n",
       "\\end{description*}\n"
      ],
      "text/markdown": [
       "Export_Billion\n",
       ":   2.07216074873405CPI\n",
       ":   1.31717727213906mean_BCI\n",
       ":   1.34112524859799Mean_Exchange_Rate\n",
       ":   2.03827052114782\n",
       "\n"
      ],
      "text/plain": [
       "    Export_Billion                CPI           mean_BCI Mean_Exchange_Rate \n",
       "          2.072161           1.317177           1.341125           2.038271 "
      ]
     },
     "metadata": {},
     "output_type": "display_data"
    }
   ],
   "source": [
    "model <- lm(Unemployment_Rate ~ Export_Billion + CPI + mean_BCI + Mean_Exchange_Rate, data = Merged_BCI)\n",
    "\n",
    "vif(model)"
   ]
  },
  {
   "cell_type": "markdown",
   "id": "6fd41ad1-adae-435e-b27a-cb2e010d7089",
   "metadata": {},
   "source": [
    "The results show that we can use the four variables **Export_Billion, CPI, mean_BCI, Mean_Exchange_Rate** to fit the model."
   ]
  },
  {
   "cell_type": "markdown",
   "id": "b88293b8-bd06-4407-92a0-42efcc231993",
   "metadata": {},
   "source": [
    "**Regression Target:**  \n",
    "We will build a regression model to predict Unemployment Rate in NZ.\n",
    "\n",
    "**Regression Strategy:**  \n",
    "Our model will include the following:\n",
    "- Dependent variable y: Unemployment_Rate\n",
    "- Regression variable matrix X will contain four variables:\n",
    "  1. Export_Billion\n",
    "  2. CPI\n",
    "  3. mean_BCI\n",
    "  4. Mean_Exchange_Rate"
   ]
  },
  {
   "cell_type": "markdown",
   "id": "b01dc050-5060-41f6-95cb-7d23dc52aeb4",
   "metadata": {},
   "source": [
    "##### (2) Time Series Analysis"
   ]
  },
  {
   "cell_type": "markdown",
   "id": "d2a75723-5f6a-4295-bcc9-3578640b5069",
   "metadata": {},
   "source": [
    "- Create Time Series"
   ]
  },
  {
   "cell_type": "code",
   "execution_count": 47,
   "id": "8cc5c6fb-e2fa-4be4-aafa-9291eb9a6f93",
   "metadata": {},
   "outputs": [],
   "source": [
    "library(tseries)"
   ]
  },
  {
   "cell_type": "code",
   "execution_count": 48,
   "id": "1ce8ea7d-fb09-4ab0-8d7b-1a248dcd7c97",
   "metadata": {},
   "outputs": [],
   "source": [
    "# Use the `ts` function to create a time series object\n",
    "start_year <- 1991\n",
    "frequency <- 1  # The frequency of annual data is 1\n",
    "\n",
    "Unemployment_Rate_ts <- ts(Merged_BCI$Unemployment_Rate, start=start_year, frequency=frequency)\n",
    "Export_Billion_ts <- ts(Merged_BCI$Export_Billion, start=start_year, frequency=frequency)\n",
    "CPI_ts <- ts(Merged_BCI$CPI, start=start_year, frequency=frequency)\n",
    "mean_BCI_ts <- ts(Merged_BCI$mean_BCI, start=start_year, frequency=frequency)\n",
    "Mean_Exchange_Rate_ts <- ts(Merged_BCI$Mean_Exchange_Rate, start=start_year, frequency=frequency)"
   ]
  },
  {
   "cell_type": "markdown",
   "id": "5d04280d-c9f0-4052-b7bf-2de064547769",
   "metadata": {},
   "source": [
    "- Plot Time series"
   ]
  },
  {
   "cell_type": "code",
   "execution_count": 67,
   "id": "7c0f745a-875a-4696-9fed-4a6ae2c65fdb",
   "metadata": {},
   "outputs": [
    {
     "data": {
      "image/png": "[encoded data removed]",
      "text/plain": [
       "Plot with title \"PACF of NZ Unemployment Rate\""
      ]
     },
     "metadata": {
      "image/png": {
       "height": 480,
       "width": 600
      }
     },
     "output_type": "display_data"
    }
   ],
   "source": [
    "# Plot Unemployment Rate\n",
    "options(repr.plot.width=10, repr.plot.height=8)\n",
    "par(mfrow=c(3,1)) \n",
    "plot(Unemployment_Rate_ts, type=\"l\", col=\"blue\", main=\"NZ Unemployment Rate\")\n",
    "acf(Unemployment_Rate_ts, lag.max=10, main=\"ACF of NZ Unemployment Rate\")\n",
    "pacf(Unemployment_Rate_ts, lag.max=10, main=\"PACF of NZ Unemployment Rate\")"
   ]
  },
  {
   "cell_type": "markdown",
   "id": "9157f454-f132-4436-ab8d-89a01782d5a1",
   "metadata": {},
   "source": [
    "From the time series plot, it can be observed that as time progresses, the unemployment rate shows a declining trend. The ACF displays a \"tailing off\" characteristic, where the autocorrelation gradually reduces to an insignificance level. The PACF cuts off after a lag of 1. Due to the evident trend and non-stationarity, it might be beneficial to attempt a first-order differencing on the data to eliminate the trend and achieve stationarity."
   ]
  },
  {
   "cell_type": "markdown",
   "id": "92196ad7-0e98-4ba3-b3df-f3c5d0298c37",
   "metadata": {},
   "source": [
    "Next, plot the time series of all external factors that affect the employment rate"
   ]
  },
  {
   "cell_type": "code",
   "execution_count": 66,
   "id": "3881fc73-dc76-46f7-a603-f3a9cfa6a1d3",
   "metadata": {},
   "outputs": [
    {
     "data": {
      "image/png": "[encoded data removed]",
      "text/plain": [
       "plot without title"
      ]
     },
     "metadata": {
      "image/png": {
       "height": 480,
       "width": 600
      }
     },
     "output_type": "display_data"
    }
   ],
   "source": [
    "library(forecast)\n",
    "# Plot other external time series variables\n",
    "options(repr.plot.width=10, repr.plot.height=8)\n",
    "# Combine all time series into a matrix\n",
    "multi_ts <- cbind( Export_Billion_ts, Mean_Exchange_Rate_ts, mean_BCI_ts, CPI_ts)\n",
    "\n",
    "# Create plots using autoplot\n",
    "autoplot(multi_ts, facets = TRUE) +\n",
    "  xlab(\"Year\") + ylab(\"\")"
   ]
  },
  {
   "cell_type": "markdown",
   "id": "f1f8ebda-d119-45e6-a7da-344e1a0b18b9",
   "metadata": {},
   "source": [
    "It can be seen from the time series diagram that all time series may have non-stationary characteristics. Next, KPSS test will be used to check the stationarity of all time series."
   ]
  },
  {
   "cell_type": "markdown",
   "id": "910e44ec-b9aa-44b6-81fb-ce72fd0101cb",
   "metadata": {},
   "source": [
    "- Time series stationarity analysis"
   ]
  },
  {
   "cell_type": "markdown",
   "id": "91cc2ad7-f20e-4e57-86ff-0dd47199b749",
   "metadata": {},
   "source": [
    "All X variables as well as Y variables should exhibit stationarity before applying a time series model such as an ARIMA or ARIMAX model."
   ]
  },
  {
   "cell_type": "markdown",
   "id": "6674b02c-ff43-439e-a21a-067c14344b6b",
   "metadata": {},
   "source": [
    "\r\n",
    "Time series analysis is very sensitive to the stationarity of the data, so it is crucial to perform a stationarity test first. KPSS test is one of them.\r\n",
    "Our main focus is on comparing KPSS statistics to key values:\r\n",
    "- If the KPSS statistic is less than a predetermined critical value (e.g., 1%, 5%, or 10% significance level), we do not reject the null hypothesis, which indicates that the data are stationary.\r\n",
    "- If the KPSS statistic is greater than or equal to the key value, we reject the null hypothesis, which indicates that the data is non-stationary."
   ]
  },
  {
   "cell_type": "code",
   "execution_count": 71,
   "id": "47aa42a8-ec57-4be9-8be9-5ad1eeaddc61",
   "metadata": {},
   "outputs": [],
   "source": [
    "# install.packages(\"urca\")"
   ]
  },
  {
   "cell_type": "code",
   "execution_count": 72,
   "id": "1511b304-1330-4d0d-a0ae-4b52e27f5f1b",
   "metadata": {},
   "outputs": [],
   "source": [
    "library(urca) # For KPSS test"
   ]
  },
  {
   "cell_type": "markdown",
   "id": "54e37b53-ab23-465f-a90d-3449e86f8a2b",
   "metadata": {},
   "source": [
    "(a) Perform KPSS test on variable"
   ]
  },
  {
   "cell_type": "code",
   "execution_count": 19,
   "id": "a142f736-782d-483e-9597-9a0aaefd4910",
   "metadata": {},
   "outputs": [
    {
     "data": {
      "text/plain": [
       "\n",
       "####################### \n",
       "# KPSS Unit Root Test # \n",
       "####################### \n",
       "\n",
       "Test is of type: mu with 2 lags. \n",
       "\n",
       "Value of test-statistic is: 0.6208 \n",
       "\n",
       "Critical value for a significance level of: \n",
       "                10pct  5pct 2.5pct  1pct\n",
       "critical values 0.347 0.463  0.574 0.739\n"
      ]
     },
     "metadata": {},
     "output_type": "display_data"
    },
    {
     "data": {
      "text/plain": [
       "\n",
       "####################### \n",
       "# KPSS Unit Root Test # \n",
       "####################### \n",
       "\n",
       "Test is of type: mu with 2 lags. \n",
       "\n",
       "Value of test-statistic is: 1.0843 \n",
       "\n",
       "Critical value for a significance level of: \n",
       "                10pct  5pct 2.5pct  1pct\n",
       "critical values 0.347 0.463  0.574 0.739\n"
      ]
     },
     "metadata": {},
     "output_type": "display_data"
    },
    {
     "data": {
      "text/plain": [
       "\n",
       "####################### \n",
       "# KPSS Unit Root Test # \n",
       "####################### \n",
       "\n",
       "Test is of type: mu with 2 lags. \n",
       "\n",
       "Value of test-statistic is: 1.0843 \n",
       "\n",
       "Critical value for a significance level of: \n",
       "                10pct  5pct 2.5pct  1pct\n",
       "critical values 0.347 0.463  0.574 0.739\n"
      ]
     },
     "metadata": {},
     "output_type": "display_data"
    },
    {
     "data": {
      "text/plain": [
       "\n",
       "####################### \n",
       "# KPSS Unit Root Test # \n",
       "####################### \n",
       "\n",
       "Test is of type: mu with 2 lags. \n",
       "\n",
       "Value of test-statistic is: 0.1567 \n",
       "\n",
       "Critical value for a significance level of: \n",
       "                10pct  5pct 2.5pct  1pct\n",
       "critical values 0.347 0.463  0.574 0.739\n"
      ]
     },
     "metadata": {},
     "output_type": "display_data"
    },
    {
     "data": {
      "text/plain": [
       "\n",
       "####################### \n",
       "# KPSS Unit Root Test # \n",
       "####################### \n",
       "\n",
       "Test is of type: mu with 2 lags. \n",
       "\n",
       "Value of test-statistic is: 0.0976 \n",
       "\n",
       "Critical value for a significance level of: \n",
       "                10pct  5pct 2.5pct  1pct\n",
       "critical values 0.347 0.463  0.574 0.739\n"
      ]
     },
     "metadata": {},
     "output_type": "display_data"
    }
   ],
   "source": [
    "Unemployment_Rate_ts %>%\n",
    "  ur.kpss() %>%\n",
    "  summary()\n",
    "\n",
    "Export_Billion_ts %>%\n",
    "  ur.kpss() %>%\n",
    "  summary()\n",
    "\n",
    "Export_Billion_ts %>%\n",
    "  ur.kpss() %>%\n",
    "  summary()\n",
    "\n",
    "mean_BCI_ts %>%\n",
    "  ur.kpss() %>%\n",
    "  summary()\n",
    "\n",
    "CPI_ts %>%\n",
    "  ur.kpss() %>%\n",
    "  summary()"
   ]
  },
  {
   "cell_type": "markdown",
   "id": "bde74312-ca15-4b1b-ba7a-30f8cbffc806",
   "metadata": {},
   "source": [
    "According to the Value of test-statistic, some variable data appear to be non-stationary. For data consistency we performed first differences on all variables."
   ]
  },
  {
   "cell_type": "markdown",
   "id": "c57d45d8-1fb9-4fa8-96dd-11b61c19d317",
   "metadata": {},
   "source": [
    "(b) Perform the KPSS test again after the first difference of the variables."
   ]
  },
  {
   "cell_type": "code",
   "execution_count": 73,
   "id": "3a8b3fbf-659c-47aa-a582-0e9af7dfabe6",
   "metadata": {},
   "outputs": [],
   "source": [
    "# Differentiation Process\n",
    "Unemployment_Rate_diff <- diff(Unemployment_Rate_ts) \n",
    "Export_Billion_diff <- diff(Export_Billion_ts) \n",
    "Mean_Exchange_Rate_diff <- diff(Mean_Exchange_Rate_ts) \n",
    "mean_BCI_diff <- diff(mean_BCI_ts) \n",
    "CPI_diff <- diff(CPI_ts) "
   ]
  },
  {
   "cell_type": "code",
   "execution_count": 74,
   "id": "3f64dc4d-5ddf-4f30-bd07-d5e90bb028fe",
   "metadata": {},
   "outputs": [
    {
     "data": {
      "text/plain": [
       "\n",
       "####################### \n",
       "# KPSS Unit Root Test # \n",
       "####################### \n",
       "\n",
       "Test is of type: mu with 2 lags. \n",
       "\n",
       "Value of test-statistic is: 0.1741 \n",
       "\n",
       "Critical value for a significance level of: \n",
       "                10pct  5pct 2.5pct  1pct\n",
       "critical values 0.347 0.463  0.574 0.739\n"
      ]
     },
     "metadata": {},
     "output_type": "display_data"
    },
    {
     "data": {
      "text/plain": [
       "\n",
       "####################### \n",
       "# KPSS Unit Root Test # \n",
       "####################### \n",
       "\n",
       "Test is of type: mu with 2 lags. \n",
       "\n",
       "Value of test-statistic is: 0.0859 \n",
       "\n",
       "Critical value for a significance level of: \n",
       "                10pct  5pct 2.5pct  1pct\n",
       "critical values 0.347 0.463  0.574 0.739\n"
      ]
     },
     "metadata": {},
     "output_type": "display_data"
    },
    {
     "data": {
      "text/plain": [
       "\n",
       "####################### \n",
       "# KPSS Unit Root Test # \n",
       "####################### \n",
       "\n",
       "Test is of type: mu with 2 lags. \n",
       "\n",
       "Value of test-statistic is: 0.0558 \n",
       "\n",
       "Critical value for a significance level of: \n",
       "                10pct  5pct 2.5pct  1pct\n",
       "critical values 0.347 0.463  0.574 0.739\n"
      ]
     },
     "metadata": {},
     "output_type": "display_data"
    },
    {
     "data": {
      "text/plain": [
       "\n",
       "####################### \n",
       "# KPSS Unit Root Test # \n",
       "####################### \n",
       "\n",
       "Test is of type: mu with 2 lags. \n",
       "\n",
       "Value of test-statistic is: 0.067 \n",
       "\n",
       "Critical value for a significance level of: \n",
       "                10pct  5pct 2.5pct  1pct\n",
       "critical values 0.347 0.463  0.574 0.739\n"
      ]
     },
     "metadata": {},
     "output_type": "display_data"
    },
    {
     "data": {
      "text/plain": [
       "\n",
       "####################### \n",
       "# KPSS Unit Root Test # \n",
       "####################### \n",
       "\n",
       "Test is of type: mu with 2 lags. \n",
       "\n",
       "Value of test-statistic is: 0.1185 \n",
       "\n",
       "Critical value for a significance level of: \n",
       "                10pct  5pct 2.5pct  1pct\n",
       "critical values 0.347 0.463  0.574 0.739\n"
      ]
     },
     "metadata": {},
     "output_type": "display_data"
    }
   ],
   "source": [
    "Unemployment_Rate_diff %>%\n",
    "  ur.kpss() %>%\n",
    "  summary()\n",
    "\n",
    "Export_Billion_diff %>%\n",
    "  ur.kpss() %>%\n",
    "  summary()\n",
    "\n",
    "Mean_Exchange_Rate_diff %>%\n",
    "  ur.kpss() %>%\n",
    "  summary()\n",
    "\n",
    "mean_BCI_diff %>%\n",
    "  ur.kpss() %>%\n",
    "  summary()\n",
    "\n",
    "CPI_diff %>%\n",
    "  ur.kpss() %>%\n",
    "  summary()"
   ]
  },
  {
   "cell_type": "markdown",
   "id": "657531b9-905c-46ff-8fad-1b0e9acc360b",
   "metadata": {},
   "source": [
    "Now the variables after the first difference meet the requirements of stationarity."
   ]
  },
  {
   "cell_type": "markdown",
   "id": "afdc9055-7d43-4a86-848d-3944a748756c",
   "metadata": {},
   "source": [
    "##### (3) Fitting a time series model"
   ]
  },
  {
   "cell_type": "markdown",
   "id": "f7f95cc1-555a-4a46-b28f-237660d732c9",
   "metadata": {},
   "source": [
    "Because there's a need to model the relationship between the time series and one or more external predictors, while also accounting for the autocorrelation in the residuals, the regARIMA model is quite suitable. It is a method that combines regression analysis with ARIMA (AutoRegressive Integrated Moving Average) time series modeling."
   ]
  },
  {
   "cell_type": "code",
   "execution_count": 80,
   "id": "a528dc5c-53a0-46be-8186-40944f6a6915",
   "metadata": {},
   "outputs": [],
   "source": [
    "# Fitting a regARIMA time series model\n",
    "fit <- auto.arima(Unemployment_Rate_diff, xreg = cbind(Export_Billion_diff, Mean_Exchange_Rate_diff, mean_BCI_diff, CPI_diff))"
   ]
  },
  {
   "cell_type": "code",
   "execution_count": 87,
   "id": "47917313-abb8-4bf2-98d7-58f11f3c1fa5",
   "metadata": {},
   "outputs": [
    {
     "data": {
      "text/plain": [
       "Series: Unemployment_Rate_diff \n",
       "Regression with ARIMA(1,0,0) errors \n",
       "\n",
       "Coefficients:\n",
       "         ar1  Export_Billion_diff  Mean_Exchange_Rate_diff  mean_BCI_diff\n",
       "      0.6321              -0.0428                   1.1782         0.0138\n",
       "s.e.  0.1360               0.0225                   0.6651         0.0635\n",
       "      CPI_diff\n",
       "       -0.1497\n",
       "s.e.    0.0771\n",
       "\n",
       "sigma^2 = 0.263:  log likelihood = -20.06\n",
       "AIC=52.11   AICc=55.77   BIC=60.52"
      ]
     },
     "metadata": {},
     "output_type": "display_data"
    }
   ],
   "source": [
    "fit"
   ]
  },
  {
   "cell_type": "markdown",
   "id": "a03da964-2d8b-404c-8b00-4c003c6bbbff",
   "metadata": {},
   "source": [
    "Here, the best ARIMA model is automatically selected to fit the time series data by using the auto.arima() function. This function determines the best model by comparing the AIC (Akaike Information Criterion) of different ARIMA models. ARIMA(1,0,0) is the best model, which is the AR(1) model."
   ]
  },
  {
   "cell_type": "markdown",
   "id": "29e6430b-c7d0-4669-aeb8-b7e9097a4f38",
   "metadata": {},
   "source": [
    "Coefficient of AR(1):0.6321  \n",
    "Export_Billion_diff:-0.0428  \n",
    "Mean_Exchange_Rate_diff:1.1782  \n",
    "mean_BCI_diff:0.0138  \n",
    "CPI_diff:-0.1497"
   ]
  },
  {
   "cell_type": "markdown",
   "id": "030ca4fd-28ae-43cc-abb6-7cfe88e0eb73",
   "metadata": {},
   "source": [
    "Next, check whether the model residuals are consistent with white noise."
   ]
  },
  {
   "cell_type": "code",
   "execution_count": 88,
   "id": "8dfb36c0-3d19-4e95-9177-321526dbc3fc",
   "metadata": {},
   "outputs": [
    {
     "name": "stdout",
     "output_type": "stream",
     "text": [
      "\n",
      "\tLjung-Box test\n",
      "\n",
      "data:  Residuals from Regression with ARIMA(1,0,0) errors\n",
      "Q* = 7.8776, df = 5, p-value = 0.1631\n",
      "\n",
      "Model df: 1.   Total lags used: 6\n",
      "\n"
     ]
    },
    {
     "data": {
      "image/png": "[encoded data removed]",
      "text/plain": [
       "plot without title"
      ]
     },
     "metadata": {
      "image/png": {
       "height": 360,
       "width": 720
      }
     },
     "output_type": "display_data"
    }
   ],
   "source": [
    "options(repr.plot.width=12, repr.plot.height=6)\n",
    "checkresiduals(fit)"
   ]
  },
  {
   "cell_type": "markdown",
   "id": "63d4211d-0815-4f95-897f-88560ab8c10d",
   "metadata": {},
   "source": [
    "The residual analysis reveals that the residuals are evenly distributed on both sides of zero without any discernible pattern, and their distribution tends towards normality. Therefore, the fitted model's residuals meet the white noise assumption."
   ]
  },
  {
   "cell_type": "markdown",
   "id": "71c8bdfb-c393-4c0b-adfb-254d6ee396b0",
   "metadata": {},
   "source": [
    "Next, we'll fit a model to the data and compare it to the actual values."
   ]
  },
  {
   "cell_type": "code",
   "execution_count": 89,
   "id": "20da2fdf-4444-4662-b43e-0a81679537a1",
   "metadata": {},
   "outputs": [
    {
     "data": {
      "text/html": [
       "A Time Series:<br><style>\n",
       ".list-inline {list-style: none; margin:0; padding: 0}\n",
       ".list-inline>li {display: inline-block}\n",
       ".list-inline>li:not(:last-child)::after {content: \"\\00b7\"; padding: 0 .5ex}\n",
       "</style>\n",
       "<ol class=list-inline><li>10.61</li><li>10.95</li><li>10.34</li><li>8.93</li><li>7.07</li><li>5.74</li><li>6.41</li><li>7.53</li><li>8.17</li><li>6.34</li><li>5.83</li><li>4.49</li><li>4.84</li><li>4.26</li><li>3.57</li><li>3.95</li><li>3.48</li><li>3.47</li><li>5.53</li><li>6.15</li><li>6.55</li><li>7.31</li><li>6.75</li><li>5.18</li><li>5.9</li><li>4.91</li><li>4.53</li><li>4.77</li><li>4.2</li><li>4.43</li><li>3.67</li></ol>\n"
      ],
      "text/latex": [
       "A Time Series:\\\\\\begin{enumerate*}\n",
       "\\item 10.61\n",
       "\\item 10.95\n",
       "\\item 10.34\n",
       "\\item 8.93\n",
       "\\item 7.07\n",
       "\\item 5.74\n",
       "\\item 6.41\n",
       "\\item 7.53\n",
       "\\item 8.17\n",
       "\\item 6.34\n",
       "\\item 5.83\n",
       "\\item 4.49\n",
       "\\item 4.84\n",
       "\\item 4.26\n",
       "\\item 3.57\n",
       "\\item 3.95\n",
       "\\item 3.48\n",
       "\\item 3.47\n",
       "\\item 5.53\n",
       "\\item 6.15\n",
       "\\item 6.55\n",
       "\\item 7.31\n",
       "\\item 6.75\n",
       "\\item 5.18\n",
       "\\item 5.9\n",
       "\\item 4.91\n",
       "\\item 4.53\n",
       "\\item 4.77\n",
       "\\item 4.2\n",
       "\\item 4.43\n",
       "\\item 3.67\n",
       "\\end{enumerate*}\n"
      ],
      "text/markdown": [
       "A Time Series:  \n",
       "1. 10.61\n",
       "2. 10.95\n",
       "3. 10.34\n",
       "4. 8.93\n",
       "5. 7.07\n",
       "6. 5.74\n",
       "7. 6.41\n",
       "8. 7.53\n",
       "9. 8.17\n",
       "10. 6.34\n",
       "11. 5.83\n",
       "12. 4.49\n",
       "13. 4.84\n",
       "14. 4.26\n",
       "15. 3.57\n",
       "16. 3.95\n",
       "17. 3.48\n",
       "18. 3.47\n",
       "19. 5.53\n",
       "20. 6.15\n",
       "21. 6.55\n",
       "22. 7.31\n",
       "23. 6.75\n",
       "24. 5.18\n",
       "25. 5.9\n",
       "26. 4.91\n",
       "27. 4.53\n",
       "28. 4.77\n",
       "29. 4.2\n",
       "30. 4.43\n",
       "31. 3.67\n",
       "\n",
       "\n"
      ],
      "text/plain": [
       "A Time Series:\n",
       " [1] 10.61 10.95 10.34  8.93  7.07  5.74  6.41  7.53  8.17  6.34  5.83  4.49\n",
       "[13]  4.84  4.26  3.57  3.95  3.48  3.47  5.53  6.15  6.55  7.31  6.75  5.18\n",
       "[25]  5.90  4.91  4.53  4.77  4.20  4.43  3.67"
      ]
     },
     "metadata": {},
     "output_type": "display_data"
    }
   ],
   "source": [
    "# Calculate fitted values from the time series model\n",
    "fitted_values <- fitted(fit)\n",
    "\n",
    "# Assume the differencing level is 1\n",
    "diff_level <- 1\n",
    "\n",
    "# Calculate the de-differenced fitted values\n",
    "fitted_original <- numeric(length(Unemployment_Rate_ts))\n",
    "fitted_original[1:(diff_level)] <- Unemployment_Rate_ts[1:(diff_level)]\n",
    "\n",
    "# De-differencing\n",
    "for (i in (diff_level + 1):length(Unemployment_Rate_ts)) {\n",
    "  fitted_original[i] <- Unemployment_Rate_ts[i - diff_level] + fitted_values[i - diff_level]\n",
    "}\n",
    "\n",
    "# Create a time series with the de-differenced values\n",
    "fitted_original <- ts(round(fitted_original, 2), start = 1991)\n",
    "\n",
    "fitted_original"
   ]
  },
  {
   "cell_type": "code",
   "execution_count": 90,
   "id": "69333af1-a936-48de-a709-bdc9a4e7833d",
   "metadata": {},
   "outputs": [
    {
     "data": {
      "image/png": "[encoded data removed]",
      "text/plain": [
       "Plot with title \"Real Values vs Modelled Values\""
      ]
     },
     "metadata": {
      "image/png": {
       "height": 360,
       "width": 720
      }
     },
     "output_type": "display_data"
    }
   ],
   "source": [
    "options(repr.plot.width=12, repr.plot.height=6)\n",
    "\n",
    "# Plot the actual unemployment rate data\n",
    "plot(Unemployment_Rate_ts, type=\"l\", lwd=2,\n",
    "     main=\"Real Values vs Modelled Values\", ylab=\"Value\", xlab=\"Time\",\n",
    "     ylim=range(c(Unemployment_Rate_ts, fitted_original))) # Set the y-axis range to encompass all values from both sequences\n",
    "\n",
    "# Add model-fitted values to the plot\n",
    "lines(fitted_original, col=\"red\", lty=2)\n",
    "\n",
    "# Add a legend\n",
    "legend(\"topright\", legend=c(\"Real Values\", \"Modelled Values\"),\n",
    "       col=c(\"black\", \"red\"), lty=c(1,2), bty=\"n\")\n"
   ]
  },
  {
   "cell_type": "markdown",
   "id": "128f3958-1cf6-4dbd-a3f7-afd8fa897261",
   "metadata": {},
   "source": [
    "From the plot of fitted values and actual values, we can see that the fitting results are similar to the original time series."
   ]
  },
  {
   "cell_type": "markdown",
   "id": "295ba3c2-ef9d-468a-a562-065f5a2e0079",
   "metadata": {},
   "source": [
    "Forecast the employment rate for the next two years"
   ]
  },
  {
   "cell_type": "code",
   "execution_count": 92,
   "id": "570c7510-1a4b-4ce7-904a-c13eaf9b8317",
   "metadata": {},
   "outputs": [],
   "source": [
    "# Use autoregressive models to forecast the next differenced value for each external regression variable.\n",
    "model_Export_Billion_diff <- auto.arima(Export_Billion_diff)\n",
    "model_Mean_Exchange_Rate_diff <- auto.arima(Mean_Exchange_Rate_diff)\n",
    "model_mean_BCI_diff <- auto.arima(mean_BCI_diff)\n",
    "model_CPI_diff <- auto.arima(CPI_diff)\n",
    "\n",
    "# Two-Step Forecasting for External Regressors\n",
    "forecast_Export_Billion_diff_2steps <- forecast(model_Export_Billion_diff, h=2)$mean\n",
    "forecast_Mean_Exchange_Rate_diff_2steps <- forecast(model_Mean_Exchange_Rate_diff, h=2)$mean\n",
    "forecast_mean_BCI_diff_2steps <- forecast(model_mean_BCI_diff, h=2)$mean\n",
    "forecast_CPI_diff_2steps <- forecast(model_CPI_diff, h=2)$mean"
   ]
  },
  {
   "cell_type": "code",
   "execution_count": 93,
   "id": "b55e6a15-07a1-4017-9c72-4299986ff11c",
   "metadata": {},
   "outputs": [
    {
     "name": "stderr",
     "output_type": "stream",
     "text": [
      "Warning message in forecast.forecast_ARIMA(fit, xreg = future_xreg_2steps, h = 2):\n",
      "\"xreg contains different column names from the xreg used in training. Please check that the regressors are in the same order.\"\n"
     ]
    },
    {
     "data": {
      "text/plain": [
       "     Point Forecast      Lo 80     Hi 80      Lo 95    Hi 95\n",
       "2022     0.28556739 -0.3717144 0.9428491 -0.7196583 1.290793\n",
       "2023    -0.02548484 -0.8030639 0.7520942 -1.2146894 1.163720"
      ]
     },
     "metadata": {},
     "output_type": "display_data"
    }
   ],
   "source": [
    "# Construct the matrix of future external regression variables.\n",
    "future_xreg_2steps <- matrix(c(forecast_Export_Billion_diff_2steps, forecast_Mean_Exchange_Rate_diff_2steps, forecast_mean_BCI_diff_2steps, forecast_CPI_diff_2steps), ncol=4)\n",
    "\n",
    "# Using these predicted values, forecast the two future time points for the main time series.\n",
    "forecasted_diff_values_2steps <- forecast(fit, xreg=future_xreg_2steps, h=2)\n",
    "forecasted_diff_values_2steps"
   ]
  },
  {
   "cell_type": "markdown",
   "id": "55390584-0ec4-43fc-8dd6-7ca89a0fa8b2",
   "metadata": {},
   "source": [
    "The above result is the prediction of the original time series after the first difference. Next, we need to remove the first difference to get the real prediction value."
   ]
  },
  {
   "cell_type": "code",
   "execution_count": 94,
   "id": "48207da5-365e-4a90-ac26-0c081e15526d",
   "metadata": {},
   "outputs": [],
   "source": [
    "# Take the inverse difference to obtain the original forecasted values\n",
    "forecasted_original_values_2steps <- numeric(2)\n",
    "forecasted_original_values_2steps[1] <- tail(Unemployment_Rate_ts, n=1) + forecasted_diff_values_2steps$mean[1]\n",
    "forecasted_original_values_2steps[2] <- forecasted_original_values_2steps[1] + forecasted_diff_values_2steps$mean[2]"
   ]
  },
  {
   "cell_type": "code",
   "execution_count": 105,
   "id": "da268fbb-aa1b-4046-8374-e2f4626c8666",
   "metadata": {},
   "outputs": [
    {
     "data": {
      "text/html": [
       "<table class=\"dataframe\">\n",
       "<caption>A data.frame: 2 × 4</caption>\n",
       "<thead>\n",
       "\t<tr><th scope=col>Year</th><th scope=col>predicted</th><th scope=col>lower_95</th><th scope=col>upper_95</th></tr>\n",
       "\t<tr><th scope=col>&lt;chr&gt;</th><th scope=col>&lt;dbl&gt;</th><th scope=col>&lt;dbl&gt;</th><th scope=col>&lt;dbl&gt;</th></tr>\n",
       "</thead>\n",
       "<tbody>\n",
       "\t<tr><td>2022</td><td>4.065567</td><td>3.060342</td><td>5.070793</td></tr>\n",
       "\t<tr><td>2023</td><td>4.040083</td><td>1.845652</td><td>6.234513</td></tr>\n",
       "</tbody>\n",
       "</table>\n"
      ],
      "text/latex": [
       "A data.frame: 2 × 4\n",
       "\\begin{tabular}{llll}\n",
       " Year & predicted & lower\\_95 & upper\\_95\\\\\n",
       " <chr> & <dbl> & <dbl> & <dbl>\\\\\n",
       "\\hline\n",
       "\t 2022 & 4.065567 & 3.060342 & 5.070793\\\\\n",
       "\t 2023 & 4.040083 & 1.845652 & 6.234513\\\\\n",
       "\\end{tabular}\n"
      ],
      "text/markdown": [
       "\n",
       "A data.frame: 2 × 4\n",
       "\n",
       "| Year &lt;chr&gt; | predicted &lt;dbl&gt; | lower_95 &lt;dbl&gt; | upper_95 &lt;dbl&gt; |\n",
       "|---|---|---|---|\n",
       "| 2022 | 4.065567 | 3.060342 | 5.070793 |\n",
       "| 2023 | 4.040083 | 1.845652 | 6.234513 |\n",
       "\n"
      ],
      "text/plain": [
       "  Year predicted lower_95 upper_95\n",
       "1 2022 4.065567  3.060342 5.070793\n",
       "2 2023 4.040083  1.845652 6.234513"
      ]
     },
     "metadata": {},
     "output_type": "display_data"
    }
   ],
   "source": [
    "# Extract the 95% confidence interval for the predicted differences.\n",
    "lower_diff_2steps <- forecasted_diff_values_2steps$lower[,2]\n",
    "upper_diff_2steps <- forecasted_diff_values_2steps$upper[,2]\n",
    "\n",
    "# Lower Bound of the 95% Confidence Interval\n",
    "lower_original_2steps <- numeric(2)\n",
    "lower_original_2steps[1] <- tail(Unemployment_Rate_ts, n=1) + lower_diff_2steps[1]\n",
    "lower_original_2steps[2] <- lower_original_2steps[1] + lower_diff_2steps[2]\n",
    "\n",
    "# Upper Bound of the 95% Confidence Interval\n",
    "upper_original_2steps <- numeric(2)\n",
    "upper_original_2steps[1] <- tail(Unemployment_Rate_ts, n=1) + upper_diff_2steps[1]\n",
    "upper_original_2steps[2] <- upper_original_2steps[1] + upper_diff_2steps[2]\n",
    "\n",
    "# Output the 95% confidence interval after differencing\n",
    "Output_df <- data.frame(\n",
    "  Year = c(\"2022\", \"2023\"),\n",
    "  predicted = forecasted_original_values_2steps,\n",
    "  lower_95 = lower_original_2steps,\n",
    "  upper_95 = upper_original_2steps\n",
    ")\n",
    "Output_df"
   ]
  }
 ],
 "metadata": {
  "kernelspec": {
   "display_name": "R",
   "language": "R",
   "name": "ir"
  },
  "language_info": {
   "codemirror_mode": "r",
   "file_extension": ".r",
   "mimetype": "text/x-r-source",
   "name": "R",
   "pygments_lexer": "r",
   "version": "4.2.3"
  }
 },
 "nbformat": 4,
 "nbformat_minor": 5
}
